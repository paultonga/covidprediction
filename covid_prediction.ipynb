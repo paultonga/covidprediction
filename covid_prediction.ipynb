{
  "nbformat": 4,
  "nbformat_minor": 0,
  "metadata": {
    "colab": {
      "name": "covid_prediction.ipynb",
      "provenance": [],
      "include_colab_link": true
    },
    "kernelspec": {
      "display_name": "CovidPrediction",
      "language": "python",
      "name": "covidprediction"
    },
    "language_info": {
      "codemirror_mode": {
        "name": "ipython",
        "version": 3
      },
      "file_extension": ".py",
      "mimetype": "text/x-python",
      "name": "python",
      "nbconvert_exporter": "python",
      "pygments_lexer": "ipython3",
      "version": "3.7.9"
    }
  },
  "cells": [
    {
      "cell_type": "markdown",
      "metadata": {
        "id": "view-in-github",
        "colab_type": "text"
      },
      "source": [
        "<a href=\"https://colab.research.google.com/github/paultonga/covidprediction/blob/main/covid_prediction.ipynb\" target=\"_parent\"><img src=\"https://colab.research.google.com/assets/colab-badge.svg\" alt=\"Open In Colab\"/></a>"
      ]
    },
    {
      "cell_type": "markdown",
      "metadata": {
        "id": "yXA9XT9Vl--D"
      },
      "source": [
        "# **COVID-19 Prediction Using Random Forests Alogrithm**\n",
        "This notebook tries to do the following:\n",
        "- Import libraries\n",
        "- Fetch COVID-19 data\n",
        "- Process the data\n",
        "- Train a Random Forest model\n",
        "- Predict future cases \n"
      ]
    },
    {
      "cell_type": "code",
      "metadata": {
        "id": "qnWYVVu3syod"
      },
      "source": [
        "%pip install jupyternotify"
      ],
      "execution_count": null,
      "outputs": []
    },
    {
      "cell_type": "markdown",
      "metadata": {
        "id": "BsC3HdtEoTd7"
      },
      "source": [
        "###**1. Import necessary libraries**\n",
        "This section imports all rhe necessary libraries for our project"
      ]
    },
    {
      "cell_type": "code",
      "metadata": {
        "id": "CXHtViCVl--H"
      },
      "source": [
        "import os\n",
        "import matplotlib.pyplot as plt\n",
        "import pandas as pd\n",
        "import seaborn as sns\n",
        "import numpy as np\n",
        "\n",
        "from IPython.core.interactiveshell import InteractiveShell\n",
        "InteractiveShell.ast_node_interactivity = \"all\"\n",
        "import jupyternotify\n",
        "ip = get_ipython()\n",
        "ip.register_magics(jupyternotify.JupyterNotifyMagics)\n",
        "\n"
      ],
      "execution_count": null,
      "outputs": []
    },
    {
      "cell_type": "markdown",
      "metadata": {
        "id": "vgJi3F75l--J"
      },
      "source": [
        "### **2. Fetch COVID-19 Data**\n",
        "Fetch the data from ourworlddata.org and display an array of countries"
      ]
    },
    {
      "cell_type": "code",
      "metadata": {
        "colab": {
          "base_uri": "https://localhost:8080/"
        },
        "id": "zT3nBJehl--J",
        "outputId": "0d14ba03-ca52-43b3-b605-929ae1832503"
      },
      "source": [
        "url_to_covid_data = 'https://covid.ourworldindata.org/data/owid-covid-data.csv'\n",
        "df_original_data = pd.read_csv(url_to_covid_data)\n",
        "df_original_data.location.unique()"
      ],
      "execution_count": null,
      "outputs": [
        {
          "output_type": "execute_result",
          "data": {
            "text/plain": [
              "array(['Afghanistan', 'Albania', 'Algeria', 'Andorra', 'Angola',\n",
              "       'Antigua and Barbuda', 'Argentina', 'Armenia', 'Australia',\n",
              "       'Austria', 'Azerbaijan', 'Bahamas', 'Bahrain', 'Bangladesh',\n",
              "       'Barbados', 'Belarus', 'Belgium', 'Belize', 'Benin', 'Bhutan',\n",
              "       'Bolivia', 'Bosnia and Herzegovina', 'Botswana', 'Brazil',\n",
              "       'Brunei', 'Bulgaria', 'Burkina Faso', 'Burundi', 'Cambodia',\n",
              "       'Cameroon', 'Canada', 'Cape Verde', 'Central African Republic',\n",
              "       'Chad', 'Chile', 'China', 'Colombia', 'Comoros', 'Congo',\n",
              "       'Costa Rica', \"Cote d'Ivoire\", 'Croatia', 'Cuba', 'Cyprus',\n",
              "       'Czechia', 'Democratic Republic of Congo', 'Denmark', 'Djibouti',\n",
              "       'Dominica', 'Dominican Republic', 'Ecuador', 'Egypt',\n",
              "       'El Salvador', 'Equatorial Guinea', 'Eritrea', 'Estonia',\n",
              "       'Eswatini', 'Ethiopia', 'Fiji', 'Finland', 'France', 'Gabon',\n",
              "       'Gambia', 'Georgia', 'Germany', 'Ghana', 'Greece', 'Grenada',\n",
              "       'Guatemala', 'Guinea', 'Guinea-Bissau', 'Guyana', 'Haiti',\n",
              "       'Honduras', 'Hong Kong', 'Hungary', 'Iceland', 'India',\n",
              "       'Indonesia', 'International', 'Iran', 'Iraq', 'Ireland', 'Israel',\n",
              "       'Italy', 'Jamaica', 'Japan', 'Jordan', 'Kazakhstan', 'Kenya',\n",
              "       'Kosovo', 'Kuwait', 'Kyrgyzstan', 'Laos', 'Latvia', 'Lebanon',\n",
              "       'Lesotho', 'Liberia', 'Libya', 'Liechtenstein', 'Lithuania',\n",
              "       'Luxembourg', 'Madagascar', 'Malawi', 'Malaysia', 'Maldives',\n",
              "       'Mali', 'Malta', 'Marshall Islands', 'Mauritania', 'Mauritius',\n",
              "       'Mexico', 'Moldova', 'Monaco', 'Mongolia', 'Montenegro', 'Morocco',\n",
              "       'Mozambique', 'Myanmar', 'Namibia', 'Nepal', 'Netherlands',\n",
              "       'New Zealand', 'Nicaragua', 'Niger', 'Nigeria', 'North Macedonia',\n",
              "       'Norway', 'Oman', 'Pakistan', 'Palestine', 'Panama',\n",
              "       'Papua New Guinea', 'Paraguay', 'Peru', 'Philippines', 'Poland',\n",
              "       'Portugal', 'Qatar', 'Romania', 'Russia', 'Rwanda',\n",
              "       'Saint Kitts and Nevis', 'Saint Lucia',\n",
              "       'Saint Vincent and the Grenadines', 'Samoa', 'San Marino',\n",
              "       'Sao Tome and Principe', 'Saudi Arabia', 'Senegal', 'Serbia',\n",
              "       'Seychelles', 'Sierra Leone', 'Singapore', 'Slovakia', 'Slovenia',\n",
              "       'Solomon Islands', 'Somalia', 'South Africa', 'South Korea',\n",
              "       'South Sudan', 'Spain', 'Sri Lanka', 'Sudan', 'Suriname', 'Sweden',\n",
              "       'Switzerland', 'Syria', 'Taiwan', 'Tajikistan', 'Tanzania',\n",
              "       'Thailand', 'Timor', 'Togo', 'Trinidad and Tobago', 'Tunisia',\n",
              "       'Turkey', 'Uganda', 'Ukraine', 'United Arab Emirates',\n",
              "       'United Kingdom', 'United States', 'Uruguay', 'Uzbekistan',\n",
              "       'Vanuatu', 'Vatican', 'Venezuela', 'Vietnam', 'World', 'Yemen',\n",
              "       'Zambia', 'Zimbabwe'], dtype=object)"
            ]
          },
          "metadata": {
            "tags": []
          },
          "execution_count": 13
        }
      ]
    },
    {
      "cell_type": "markdown",
      "metadata": {
        "id": "kUE5d-lgvvzF"
      },
      "source": [
        "#### 2.1 Display a trncated version of the data"
      ]
    },
    {
      "cell_type": "code",
      "metadata": {
        "colab": {
          "base_uri": "https://localhost:8080/",
          "height": 609
        },
        "id": "Z9T81Oprl--K",
        "outputId": "82da8084-8660-492a-a824-aca6774793e8"
      },
      "source": [
        "df = df_original_data[df_original_data.location == 'United Kingdom']\n",
        "df"
      ],
      "execution_count": null,
      "outputs": [
        {
          "output_type": "execute_result",
          "data": {
            "text/html": [
              "<div>\n",
              "<style scoped>\n",
              "    .dataframe tbody tr th:only-of-type {\n",
              "        vertical-align: middle;\n",
              "    }\n",
              "\n",
              "    .dataframe tbody tr th {\n",
              "        vertical-align: top;\n",
              "    }\n",
              "\n",
              "    .dataframe thead th {\n",
              "        text-align: right;\n",
              "    }\n",
              "</style>\n",
              "<table border=\"1\" class=\"dataframe\">\n",
              "  <thead>\n",
              "    <tr style=\"text-align: right;\">\n",
              "      <th></th>\n",
              "      <th>iso_code</th>\n",
              "      <th>continent</th>\n",
              "      <th>location</th>\n",
              "      <th>date</th>\n",
              "      <th>total_cases</th>\n",
              "      <th>new_cases</th>\n",
              "      <th>new_cases_smoothed</th>\n",
              "      <th>total_deaths</th>\n",
              "      <th>new_deaths</th>\n",
              "      <th>new_deaths_smoothed</th>\n",
              "      <th>total_cases_per_million</th>\n",
              "      <th>new_cases_per_million</th>\n",
              "      <th>new_cases_smoothed_per_million</th>\n",
              "      <th>total_deaths_per_million</th>\n",
              "      <th>new_deaths_per_million</th>\n",
              "      <th>new_deaths_smoothed_per_million</th>\n",
              "      <th>reproduction_rate</th>\n",
              "      <th>icu_patients</th>\n",
              "      <th>icu_patients_per_million</th>\n",
              "      <th>hosp_patients</th>\n",
              "      <th>hosp_patients_per_million</th>\n",
              "      <th>weekly_icu_admissions</th>\n",
              "      <th>weekly_icu_admissions_per_million</th>\n",
              "      <th>weekly_hosp_admissions</th>\n",
              "      <th>weekly_hosp_admissions_per_million</th>\n",
              "      <th>new_tests</th>\n",
              "      <th>total_tests</th>\n",
              "      <th>total_tests_per_thousand</th>\n",
              "      <th>new_tests_per_thousand</th>\n",
              "      <th>new_tests_smoothed</th>\n",
              "      <th>new_tests_smoothed_per_thousand</th>\n",
              "      <th>positive_rate</th>\n",
              "      <th>tests_per_case</th>\n",
              "      <th>tests_units</th>\n",
              "      <th>total_vaccinations</th>\n",
              "      <th>total_vaccinations_per_hundred</th>\n",
              "      <th>stringency_index</th>\n",
              "      <th>population</th>\n",
              "      <th>population_density</th>\n",
              "      <th>median_age</th>\n",
              "      <th>aged_65_older</th>\n",
              "      <th>aged_70_older</th>\n",
              "      <th>gdp_per_capita</th>\n",
              "      <th>extreme_poverty</th>\n",
              "      <th>cardiovasc_death_rate</th>\n",
              "      <th>diabetes_prevalence</th>\n",
              "      <th>female_smokers</th>\n",
              "      <th>male_smokers</th>\n",
              "      <th>handwashing_facilities</th>\n",
              "      <th>hospital_beds_per_thousand</th>\n",
              "      <th>life_expectancy</th>\n",
              "      <th>human_development_index</th>\n",
              "    </tr>\n",
              "  </thead>\n",
              "  <tbody>\n",
              "    <tr>\n",
              "      <th>53259</th>\n",
              "      <td>GBR</td>\n",
              "      <td>Europe</td>\n",
              "      <td>United Kingdom</td>\n",
              "      <td>2020-01-31</td>\n",
              "      <td>2.0</td>\n",
              "      <td>2.0</td>\n",
              "      <td>NaN</td>\n",
              "      <td>NaN</td>\n",
              "      <td>NaN</td>\n",
              "      <td>NaN</td>\n",
              "      <td>0.029</td>\n",
              "      <td>0.029</td>\n",
              "      <td>NaN</td>\n",
              "      <td>NaN</td>\n",
              "      <td>NaN</td>\n",
              "      <td>NaN</td>\n",
              "      <td>NaN</td>\n",
              "      <td>NaN</td>\n",
              "      <td>NaN</td>\n",
              "      <td>NaN</td>\n",
              "      <td>NaN</td>\n",
              "      <td>NaN</td>\n",
              "      <td>NaN</td>\n",
              "      <td>NaN</td>\n",
              "      <td>NaN</td>\n",
              "      <td>NaN</td>\n",
              "      <td>NaN</td>\n",
              "      <td>NaN</td>\n",
              "      <td>NaN</td>\n",
              "      <td>NaN</td>\n",
              "      <td>NaN</td>\n",
              "      <td>NaN</td>\n",
              "      <td>NaN</td>\n",
              "      <td>NaN</td>\n",
              "      <td>NaN</td>\n",
              "      <td>NaN</td>\n",
              "      <td>8.33</td>\n",
              "      <td>67886004.0</td>\n",
              "      <td>272.898</td>\n",
              "      <td>40.8</td>\n",
              "      <td>18.517</td>\n",
              "      <td>12.527</td>\n",
              "      <td>39753.244</td>\n",
              "      <td>0.2</td>\n",
              "      <td>122.137</td>\n",
              "      <td>4.28</td>\n",
              "      <td>20.0</td>\n",
              "      <td>24.7</td>\n",
              "      <td>NaN</td>\n",
              "      <td>2.54</td>\n",
              "      <td>81.32</td>\n",
              "      <td>0.922</td>\n",
              "    </tr>\n",
              "    <tr>\n",
              "      <th>53260</th>\n",
              "      <td>GBR</td>\n",
              "      <td>Europe</td>\n",
              "      <td>United Kingdom</td>\n",
              "      <td>2020-02-01</td>\n",
              "      <td>2.0</td>\n",
              "      <td>0.0</td>\n",
              "      <td>NaN</td>\n",
              "      <td>NaN</td>\n",
              "      <td>NaN</td>\n",
              "      <td>NaN</td>\n",
              "      <td>0.029</td>\n",
              "      <td>0.000</td>\n",
              "      <td>NaN</td>\n",
              "      <td>NaN</td>\n",
              "      <td>NaN</td>\n",
              "      <td>NaN</td>\n",
              "      <td>NaN</td>\n",
              "      <td>NaN</td>\n",
              "      <td>NaN</td>\n",
              "      <td>NaN</td>\n",
              "      <td>NaN</td>\n",
              "      <td>NaN</td>\n",
              "      <td>NaN</td>\n",
              "      <td>NaN</td>\n",
              "      <td>NaN</td>\n",
              "      <td>NaN</td>\n",
              "      <td>NaN</td>\n",
              "      <td>NaN</td>\n",
              "      <td>NaN</td>\n",
              "      <td>NaN</td>\n",
              "      <td>NaN</td>\n",
              "      <td>NaN</td>\n",
              "      <td>NaN</td>\n",
              "      <td>NaN</td>\n",
              "      <td>NaN</td>\n",
              "      <td>NaN</td>\n",
              "      <td>8.33</td>\n",
              "      <td>67886004.0</td>\n",
              "      <td>272.898</td>\n",
              "      <td>40.8</td>\n",
              "      <td>18.517</td>\n",
              "      <td>12.527</td>\n",
              "      <td>39753.244</td>\n",
              "      <td>0.2</td>\n",
              "      <td>122.137</td>\n",
              "      <td>4.28</td>\n",
              "      <td>20.0</td>\n",
              "      <td>24.7</td>\n",
              "      <td>NaN</td>\n",
              "      <td>2.54</td>\n",
              "      <td>81.32</td>\n",
              "      <td>0.922</td>\n",
              "    </tr>\n",
              "    <tr>\n",
              "      <th>53261</th>\n",
              "      <td>GBR</td>\n",
              "      <td>Europe</td>\n",
              "      <td>United Kingdom</td>\n",
              "      <td>2020-02-02</td>\n",
              "      <td>2.0</td>\n",
              "      <td>0.0</td>\n",
              "      <td>NaN</td>\n",
              "      <td>NaN</td>\n",
              "      <td>NaN</td>\n",
              "      <td>NaN</td>\n",
              "      <td>0.029</td>\n",
              "      <td>0.000</td>\n",
              "      <td>NaN</td>\n",
              "      <td>NaN</td>\n",
              "      <td>NaN</td>\n",
              "      <td>NaN</td>\n",
              "      <td>NaN</td>\n",
              "      <td>NaN</td>\n",
              "      <td>NaN</td>\n",
              "      <td>NaN</td>\n",
              "      <td>NaN</td>\n",
              "      <td>NaN</td>\n",
              "      <td>NaN</td>\n",
              "      <td>NaN</td>\n",
              "      <td>NaN</td>\n",
              "      <td>NaN</td>\n",
              "      <td>NaN</td>\n",
              "      <td>NaN</td>\n",
              "      <td>NaN</td>\n",
              "      <td>NaN</td>\n",
              "      <td>NaN</td>\n",
              "      <td>NaN</td>\n",
              "      <td>NaN</td>\n",
              "      <td>NaN</td>\n",
              "      <td>NaN</td>\n",
              "      <td>NaN</td>\n",
              "      <td>11.11</td>\n",
              "      <td>67886004.0</td>\n",
              "      <td>272.898</td>\n",
              "      <td>40.8</td>\n",
              "      <td>18.517</td>\n",
              "      <td>12.527</td>\n",
              "      <td>39753.244</td>\n",
              "      <td>0.2</td>\n",
              "      <td>122.137</td>\n",
              "      <td>4.28</td>\n",
              "      <td>20.0</td>\n",
              "      <td>24.7</td>\n",
              "      <td>NaN</td>\n",
              "      <td>2.54</td>\n",
              "      <td>81.32</td>\n",
              "      <td>0.922</td>\n",
              "    </tr>\n",
              "    <tr>\n",
              "      <th>53262</th>\n",
              "      <td>GBR</td>\n",
              "      <td>Europe</td>\n",
              "      <td>United Kingdom</td>\n",
              "      <td>2020-02-03</td>\n",
              "      <td>8.0</td>\n",
              "      <td>6.0</td>\n",
              "      <td>NaN</td>\n",
              "      <td>NaN</td>\n",
              "      <td>NaN</td>\n",
              "      <td>NaN</td>\n",
              "      <td>0.118</td>\n",
              "      <td>0.088</td>\n",
              "      <td>NaN</td>\n",
              "      <td>NaN</td>\n",
              "      <td>NaN</td>\n",
              "      <td>NaN</td>\n",
              "      <td>NaN</td>\n",
              "      <td>NaN</td>\n",
              "      <td>NaN</td>\n",
              "      <td>NaN</td>\n",
              "      <td>NaN</td>\n",
              "      <td>NaN</td>\n",
              "      <td>NaN</td>\n",
              "      <td>NaN</td>\n",
              "      <td>NaN</td>\n",
              "      <td>NaN</td>\n",
              "      <td>NaN</td>\n",
              "      <td>NaN</td>\n",
              "      <td>NaN</td>\n",
              "      <td>NaN</td>\n",
              "      <td>NaN</td>\n",
              "      <td>NaN</td>\n",
              "      <td>NaN</td>\n",
              "      <td>NaN</td>\n",
              "      <td>NaN</td>\n",
              "      <td>NaN</td>\n",
              "      <td>11.11</td>\n",
              "      <td>67886004.0</td>\n",
              "      <td>272.898</td>\n",
              "      <td>40.8</td>\n",
              "      <td>18.517</td>\n",
              "      <td>12.527</td>\n",
              "      <td>39753.244</td>\n",
              "      <td>0.2</td>\n",
              "      <td>122.137</td>\n",
              "      <td>4.28</td>\n",
              "      <td>20.0</td>\n",
              "      <td>24.7</td>\n",
              "      <td>NaN</td>\n",
              "      <td>2.54</td>\n",
              "      <td>81.32</td>\n",
              "      <td>0.922</td>\n",
              "    </tr>\n",
              "    <tr>\n",
              "      <th>53263</th>\n",
              "      <td>GBR</td>\n",
              "      <td>Europe</td>\n",
              "      <td>United Kingdom</td>\n",
              "      <td>2020-02-04</td>\n",
              "      <td>8.0</td>\n",
              "      <td>0.0</td>\n",
              "      <td>NaN</td>\n",
              "      <td>NaN</td>\n",
              "      <td>NaN</td>\n",
              "      <td>NaN</td>\n",
              "      <td>0.118</td>\n",
              "      <td>0.000</td>\n",
              "      <td>NaN</td>\n",
              "      <td>NaN</td>\n",
              "      <td>NaN</td>\n",
              "      <td>NaN</td>\n",
              "      <td>NaN</td>\n",
              "      <td>NaN</td>\n",
              "      <td>NaN</td>\n",
              "      <td>NaN</td>\n",
              "      <td>NaN</td>\n",
              "      <td>NaN</td>\n",
              "      <td>NaN</td>\n",
              "      <td>NaN</td>\n",
              "      <td>NaN</td>\n",
              "      <td>NaN</td>\n",
              "      <td>NaN</td>\n",
              "      <td>NaN</td>\n",
              "      <td>NaN</td>\n",
              "      <td>NaN</td>\n",
              "      <td>NaN</td>\n",
              "      <td>NaN</td>\n",
              "      <td>NaN</td>\n",
              "      <td>NaN</td>\n",
              "      <td>NaN</td>\n",
              "      <td>NaN</td>\n",
              "      <td>11.11</td>\n",
              "      <td>67886004.0</td>\n",
              "      <td>272.898</td>\n",
              "      <td>40.8</td>\n",
              "      <td>18.517</td>\n",
              "      <td>12.527</td>\n",
              "      <td>39753.244</td>\n",
              "      <td>0.2</td>\n",
              "      <td>122.137</td>\n",
              "      <td>4.28</td>\n",
              "      <td>20.0</td>\n",
              "      <td>24.7</td>\n",
              "      <td>NaN</td>\n",
              "      <td>2.54</td>\n",
              "      <td>81.32</td>\n",
              "      <td>0.922</td>\n",
              "    </tr>\n",
              "    <tr>\n",
              "      <th>...</th>\n",
              "      <td>...</td>\n",
              "      <td>...</td>\n",
              "      <td>...</td>\n",
              "      <td>...</td>\n",
              "      <td>...</td>\n",
              "      <td>...</td>\n",
              "      <td>...</td>\n",
              "      <td>...</td>\n",
              "      <td>...</td>\n",
              "      <td>...</td>\n",
              "      <td>...</td>\n",
              "      <td>...</td>\n",
              "      <td>...</td>\n",
              "      <td>...</td>\n",
              "      <td>...</td>\n",
              "      <td>...</td>\n",
              "      <td>...</td>\n",
              "      <td>...</td>\n",
              "      <td>...</td>\n",
              "      <td>...</td>\n",
              "      <td>...</td>\n",
              "      <td>...</td>\n",
              "      <td>...</td>\n",
              "      <td>...</td>\n",
              "      <td>...</td>\n",
              "      <td>...</td>\n",
              "      <td>...</td>\n",
              "      <td>...</td>\n",
              "      <td>...</td>\n",
              "      <td>...</td>\n",
              "      <td>...</td>\n",
              "      <td>...</td>\n",
              "      <td>...</td>\n",
              "      <td>...</td>\n",
              "      <td>...</td>\n",
              "      <td>...</td>\n",
              "      <td>...</td>\n",
              "      <td>...</td>\n",
              "      <td>...</td>\n",
              "      <td>...</td>\n",
              "      <td>...</td>\n",
              "      <td>...</td>\n",
              "      <td>...</td>\n",
              "      <td>...</td>\n",
              "      <td>...</td>\n",
              "      <td>...</td>\n",
              "      <td>...</td>\n",
              "      <td>...</td>\n",
              "      <td>...</td>\n",
              "      <td>...</td>\n",
              "      <td>...</td>\n",
              "      <td>...</td>\n",
              "    </tr>\n",
              "    <tr>\n",
              "      <th>53586</th>\n",
              "      <td>GBR</td>\n",
              "      <td>Europe</td>\n",
              "      <td>United Kingdom</td>\n",
              "      <td>2020-12-23</td>\n",
              "      <td>2155996.0</td>\n",
              "      <td>39387.0</td>\n",
              "      <td>33894.286</td>\n",
              "      <td>69157.0</td>\n",
              "      <td>748.0</td>\n",
              "      <td>505.571</td>\n",
              "      <td>31759.065</td>\n",
              "      <td>580.193</td>\n",
              "      <td>499.282</td>\n",
              "      <td>1018.723</td>\n",
              "      <td>11.018</td>\n",
              "      <td>7.447</td>\n",
              "      <td>NaN</td>\n",
              "      <td>NaN</td>\n",
              "      <td>NaN</td>\n",
              "      <td>NaN</td>\n",
              "      <td>NaN</td>\n",
              "      <td>NaN</td>\n",
              "      <td>NaN</td>\n",
              "      <td>NaN</td>\n",
              "      <td>NaN</td>\n",
              "      <td>507384.0</td>\n",
              "      <td>49434314.0</td>\n",
              "      <td>728.196</td>\n",
              "      <td>7.474</td>\n",
              "      <td>437220.0</td>\n",
              "      <td>6.441</td>\n",
              "      <td>0.078</td>\n",
              "      <td>12.9</td>\n",
              "      <td>tests performed</td>\n",
              "      <td>NaN</td>\n",
              "      <td>NaN</td>\n",
              "      <td>NaN</td>\n",
              "      <td>67886004.0</td>\n",
              "      <td>272.898</td>\n",
              "      <td>40.8</td>\n",
              "      <td>18.517</td>\n",
              "      <td>12.527</td>\n",
              "      <td>39753.244</td>\n",
              "      <td>0.2</td>\n",
              "      <td>122.137</td>\n",
              "      <td>4.28</td>\n",
              "      <td>20.0</td>\n",
              "      <td>24.7</td>\n",
              "      <td>NaN</td>\n",
              "      <td>2.54</td>\n",
              "      <td>81.32</td>\n",
              "      <td>0.922</td>\n",
              "    </tr>\n",
              "    <tr>\n",
              "      <th>53587</th>\n",
              "      <td>GBR</td>\n",
              "      <td>Europe</td>\n",
              "      <td>United Kingdom</td>\n",
              "      <td>2020-12-24</td>\n",
              "      <td>2195144.0</td>\n",
              "      <td>39148.0</td>\n",
              "      <td>34410.857</td>\n",
              "      <td>69732.0</td>\n",
              "      <td>575.0</td>\n",
              "      <td>511.714</td>\n",
              "      <td>32335.737</td>\n",
              "      <td>576.673</td>\n",
              "      <td>506.892</td>\n",
              "      <td>1027.193</td>\n",
              "      <td>8.470</td>\n",
              "      <td>7.538</td>\n",
              "      <td>NaN</td>\n",
              "      <td>NaN</td>\n",
              "      <td>NaN</td>\n",
              "      <td>NaN</td>\n",
              "      <td>NaN</td>\n",
              "      <td>NaN</td>\n",
              "      <td>NaN</td>\n",
              "      <td>NaN</td>\n",
              "      <td>NaN</td>\n",
              "      <td>NaN</td>\n",
              "      <td>NaN</td>\n",
              "      <td>NaN</td>\n",
              "      <td>NaN</td>\n",
              "      <td>NaN</td>\n",
              "      <td>NaN</td>\n",
              "      <td>NaN</td>\n",
              "      <td>NaN</td>\n",
              "      <td>NaN</td>\n",
              "      <td>800000.0</td>\n",
              "      <td>1.18</td>\n",
              "      <td>NaN</td>\n",
              "      <td>67886004.0</td>\n",
              "      <td>272.898</td>\n",
              "      <td>40.8</td>\n",
              "      <td>18.517</td>\n",
              "      <td>12.527</td>\n",
              "      <td>39753.244</td>\n",
              "      <td>0.2</td>\n",
              "      <td>122.137</td>\n",
              "      <td>4.28</td>\n",
              "      <td>20.0</td>\n",
              "      <td>24.7</td>\n",
              "      <td>NaN</td>\n",
              "      <td>2.54</td>\n",
              "      <td>81.32</td>\n",
              "      <td>0.922</td>\n",
              "    </tr>\n",
              "    <tr>\n",
              "      <th>53588</th>\n",
              "      <td>GBR</td>\n",
              "      <td>Europe</td>\n",
              "      <td>United Kingdom</td>\n",
              "      <td>2020-12-25</td>\n",
              "      <td>2227947.0</td>\n",
              "      <td>32803.0</td>\n",
              "      <td>35017.000</td>\n",
              "      <td>70302.0</td>\n",
              "      <td>570.0</td>\n",
              "      <td>523.143</td>\n",
              "      <td>32818.945</td>\n",
              "      <td>483.207</td>\n",
              "      <td>515.821</td>\n",
              "      <td>1035.589</td>\n",
              "      <td>8.396</td>\n",
              "      <td>7.706</td>\n",
              "      <td>NaN</td>\n",
              "      <td>NaN</td>\n",
              "      <td>NaN</td>\n",
              "      <td>NaN</td>\n",
              "      <td>NaN</td>\n",
              "      <td>NaN</td>\n",
              "      <td>NaN</td>\n",
              "      <td>NaN</td>\n",
              "      <td>NaN</td>\n",
              "      <td>NaN</td>\n",
              "      <td>NaN</td>\n",
              "      <td>NaN</td>\n",
              "      <td>NaN</td>\n",
              "      <td>NaN</td>\n",
              "      <td>NaN</td>\n",
              "      <td>NaN</td>\n",
              "      <td>NaN</td>\n",
              "      <td>NaN</td>\n",
              "      <td>NaN</td>\n",
              "      <td>NaN</td>\n",
              "      <td>NaN</td>\n",
              "      <td>67886004.0</td>\n",
              "      <td>272.898</td>\n",
              "      <td>40.8</td>\n",
              "      <td>18.517</td>\n",
              "      <td>12.527</td>\n",
              "      <td>39753.244</td>\n",
              "      <td>0.2</td>\n",
              "      <td>122.137</td>\n",
              "      <td>4.28</td>\n",
              "      <td>20.0</td>\n",
              "      <td>24.7</td>\n",
              "      <td>NaN</td>\n",
              "      <td>2.54</td>\n",
              "      <td>81.32</td>\n",
              "      <td>0.922</td>\n",
              "    </tr>\n",
              "    <tr>\n",
              "      <th>53589</th>\n",
              "      <td>GBR</td>\n",
              "      <td>Europe</td>\n",
              "      <td>United Kingdom</td>\n",
              "      <td>2020-12-26</td>\n",
              "      <td>2262735.0</td>\n",
              "      <td>34788.0</td>\n",
              "      <td>36094.000</td>\n",
              "      <td>70513.0</td>\n",
              "      <td>211.0</td>\n",
              "      <td>476.571</td>\n",
              "      <td>33331.392</td>\n",
              "      <td>512.447</td>\n",
              "      <td>531.685</td>\n",
              "      <td>1038.697</td>\n",
              "      <td>3.108</td>\n",
              "      <td>7.020</td>\n",
              "      <td>NaN</td>\n",
              "      <td>NaN</td>\n",
              "      <td>NaN</td>\n",
              "      <td>NaN</td>\n",
              "      <td>NaN</td>\n",
              "      <td>NaN</td>\n",
              "      <td>NaN</td>\n",
              "      <td>NaN</td>\n",
              "      <td>NaN</td>\n",
              "      <td>NaN</td>\n",
              "      <td>NaN</td>\n",
              "      <td>NaN</td>\n",
              "      <td>NaN</td>\n",
              "      <td>NaN</td>\n",
              "      <td>NaN</td>\n",
              "      <td>NaN</td>\n",
              "      <td>NaN</td>\n",
              "      <td>NaN</td>\n",
              "      <td>NaN</td>\n",
              "      <td>NaN</td>\n",
              "      <td>NaN</td>\n",
              "      <td>67886004.0</td>\n",
              "      <td>272.898</td>\n",
              "      <td>40.8</td>\n",
              "      <td>18.517</td>\n",
              "      <td>12.527</td>\n",
              "      <td>39753.244</td>\n",
              "      <td>0.2</td>\n",
              "      <td>122.137</td>\n",
              "      <td>4.28</td>\n",
              "      <td>20.0</td>\n",
              "      <td>24.7</td>\n",
              "      <td>NaN</td>\n",
              "      <td>2.54</td>\n",
              "      <td>81.32</td>\n",
              "      <td>0.922</td>\n",
              "    </tr>\n",
              "    <tr>\n",
              "      <th>53590</th>\n",
              "      <td>GBR</td>\n",
              "      <td>Europe</td>\n",
              "      <td>United Kingdom</td>\n",
              "      <td>2020-12-27</td>\n",
              "      <td>2295228.0</td>\n",
              "      <td>32493.0</td>\n",
              "      <td>35581.000</td>\n",
              "      <td>70860.0</td>\n",
              "      <td>347.0</td>\n",
              "      <td>479.571</td>\n",
              "      <td>33810.032</td>\n",
              "      <td>478.641</td>\n",
              "      <td>524.129</td>\n",
              "      <td>1043.809</td>\n",
              "      <td>5.112</td>\n",
              "      <td>7.064</td>\n",
              "      <td>NaN</td>\n",
              "      <td>NaN</td>\n",
              "      <td>NaN</td>\n",
              "      <td>NaN</td>\n",
              "      <td>NaN</td>\n",
              "      <td>NaN</td>\n",
              "      <td>NaN</td>\n",
              "      <td>NaN</td>\n",
              "      <td>NaN</td>\n",
              "      <td>NaN</td>\n",
              "      <td>NaN</td>\n",
              "      <td>NaN</td>\n",
              "      <td>NaN</td>\n",
              "      <td>NaN</td>\n",
              "      <td>NaN</td>\n",
              "      <td>NaN</td>\n",
              "      <td>NaN</td>\n",
              "      <td>NaN</td>\n",
              "      <td>NaN</td>\n",
              "      <td>NaN</td>\n",
              "      <td>NaN</td>\n",
              "      <td>67886004.0</td>\n",
              "      <td>272.898</td>\n",
              "      <td>40.8</td>\n",
              "      <td>18.517</td>\n",
              "      <td>12.527</td>\n",
              "      <td>39753.244</td>\n",
              "      <td>0.2</td>\n",
              "      <td>122.137</td>\n",
              "      <td>4.28</td>\n",
              "      <td>20.0</td>\n",
              "      <td>24.7</td>\n",
              "      <td>NaN</td>\n",
              "      <td>2.54</td>\n",
              "      <td>81.32</td>\n",
              "      <td>0.922</td>\n",
              "    </tr>\n",
              "  </tbody>\n",
              "</table>\n",
              "<p>332 rows × 52 columns</p>\n",
              "</div>"
            ],
            "text/plain": [
              "      iso_code continent  ... life_expectancy human_development_index\n",
              "53259      GBR    Europe  ...           81.32                   0.922\n",
              "53260      GBR    Europe  ...           81.32                   0.922\n",
              "53261      GBR    Europe  ...           81.32                   0.922\n",
              "53262      GBR    Europe  ...           81.32                   0.922\n",
              "53263      GBR    Europe  ...           81.32                   0.922\n",
              "...        ...       ...  ...             ...                     ...\n",
              "53586      GBR    Europe  ...           81.32                   0.922\n",
              "53587      GBR    Europe  ...           81.32                   0.922\n",
              "53588      GBR    Europe  ...           81.32                   0.922\n",
              "53589      GBR    Europe  ...           81.32                   0.922\n",
              "53590      GBR    Europe  ...           81.32                   0.922\n",
              "\n",
              "[332 rows x 52 columns]"
            ]
          },
          "metadata": {
            "tags": []
          },
          "execution_count": 15
        }
      ]
    },
    {
      "cell_type": "markdown",
      "metadata": {
        "id": "8XkcvbpExeyR"
      },
      "source": [
        "#### 2.2 Plot a scatter graph of the data"
      ]
    },
    {
      "cell_type": "code",
      "metadata": {
        "colab": {
          "base_uri": "https://localhost:8080/",
          "height": 829
        },
        "id": "jszXuSh1xoev",
        "outputId": "7590c0c8-f4df-4cee-ea4e-b74cc3d5e142"
      },
      "source": [
        "_ = plt.figure(figsize=(30, 15))\n",
        "sns.scatterplot(sorted(df.date), df.new_cases);"
      ],
      "execution_count": null,
      "outputs": [
        {
          "output_type": "stream",
          "text": [
            "/usr/local/lib/python3.6/dist-packages/seaborn/_decorators.py:43: FutureWarning: Pass the following variables as keyword args: x, y. From version 0.12, the only valid positional argument will be `data`, and passing other arguments without an explicit keyword will result in an error or misinterpretation.\n",
            "  FutureWarning\n"
          ],
          "name": "stderr"
        },
        {
          "output_type": "display_data",
          "data": {
            "image/png": "[encoded data removed]",
            "text/plain": [
              "<Figure size 2160x1080 with 1 Axes>"
            ]
          },
          "metadata": {
            "tags": []
          }
        }
      ]
    },
    {
      "cell_type": "markdown",
      "metadata": {
        "id": "MPuY2xZoyMRY"
      },
      "source": [
        "### **3. Data Processing**\n",
        "Check for missing data"
      ]
    },
    {
      "cell_type": "code",
      "metadata": {
        "colab": {
          "base_uri": "https://localhost:8080/"
        },
        "id": "hjcFK25fyYwL",
        "outputId": "98b8cb6b-b155-4343-9a59-25bd138dfd53"
      },
      "source": [
        "df_copy = df_original_data.copy()\n",
        "df_copy.info()"
      ],
      "execution_count": null,
      "outputs": [
        {
          "output_type": "stream",
          "text": [
            "<class 'pandas.core.frame.DataFrame'>\n",
            "RangeIndex: 56655 entries, 0 to 56654\n",
            "Data columns (total 52 columns):\n",
            " #   Column                              Non-Null Count  Dtype  \n",
            "---  ------                              --------------  -----  \n",
            " 0   iso_code                            56330 non-null  object \n",
            " 1   continent                           55989 non-null  object \n",
            " 2   location                            56655 non-null  object \n",
            " 3   date                                56655 non-null  object \n",
            " 4   total_cases                         56098 non-null  float64\n",
            " 5   new_cases                           56092 non-null  float64\n",
            " 6   new_cases_smoothed                  55136 non-null  float64\n",
            " 7   total_deaths                        47888 non-null  float64\n",
            " 8   new_deaths                          47887 non-null  float64\n",
            " 9   new_deaths_smoothed                 55136 non-null  float64\n",
            " 10  total_cases_per_million             55773 non-null  float64\n",
            " 11  new_cases_per_million               55767 non-null  float64\n",
            " 12  new_cases_smoothed_per_million      54816 non-null  float64\n",
            " 13  total_deaths_per_million            47576 non-null  float64\n",
            " 14  new_deaths_per_million              47575 non-null  float64\n",
            " 15  new_deaths_smoothed_per_million     54816 non-null  float64\n",
            " 16  reproduction_rate                   42503 non-null  float64\n",
            " 17  icu_patients                        6195 non-null   float64\n",
            " 18  icu_patients_per_million            6195 non-null   float64\n",
            " 19  hosp_patients                       6927 non-null   float64\n",
            " 20  hosp_patients_per_million           6927 non-null   float64\n",
            " 21  weekly_icu_admissions               528 non-null    float64\n",
            " 22  weekly_icu_admissions_per_million   528 non-null    float64\n",
            " 23  weekly_hosp_admissions              853 non-null    float64\n",
            " 24  weekly_hosp_admissions_per_million  853 non-null    float64\n",
            " 25  new_tests                           26344 non-null  float64\n",
            " 26  total_tests                         26282 non-null  float64\n",
            " 27  total_tests_per_thousand            26282 non-null  float64\n",
            " 28  new_tests_per_thousand              26344 non-null  float64\n",
            " 29  new_tests_smoothed                  29481 non-null  float64\n",
            " 30  new_tests_smoothed_per_thousand     29481 non-null  float64\n",
            " 31  positive_rate                       27527 non-null  float64\n",
            " 32  tests_per_case                      27065 non-null  float64\n",
            " 33  tests_units                         30578 non-null  object \n",
            " 34  total_vaccinations                  58 non-null     float64\n",
            " 35  total_vaccinations_per_hundred      58 non-null     float64\n",
            " 36  stringency_index                    49968 non-null  float64\n",
            " 37  population                          56330 non-null  float64\n",
            " 38  population_density                  55138 non-null  float64\n",
            " 39  median_age                          53916 non-null  float64\n",
            " 40  aged_65_older                       53288 non-null  float64\n",
            " 41  aged_70_older                       53610 non-null  float64\n",
            " 42  gdp_per_capita                      53924 non-null  float64\n",
            " 43  extreme_poverty                     36909 non-null  float64\n",
            " 44  cardiovasc_death_rate               54474 non-null  float64\n",
            " 45  diabetes_prevalence                 55116 non-null  float64\n",
            " 46  female_smokers                      43045 non-null  float64\n",
            " 47  male_smokers                        42456 non-null  float64\n",
            " 48  handwashing_facilities              27226 non-null  float64\n",
            " 49  hospital_beds_per_thousand          50087 non-null  float64\n",
            " 50  life_expectancy                     56041 non-null  float64\n",
            " 51  human_development_index             54161 non-null  float64\n",
            "dtypes: float64(47), object(5)\n",
            "memory usage: 22.5+ MB\n"
          ],
          "name": "stdout"
        }
      ]
    },
    {
      "cell_type": "markdown",
      "metadata": {
        "id": "byBiFeJTzTa_"
      },
      "source": [
        "#### 3.1 Analyze missing data"
      ]
    },
    {
      "cell_type": "code",
      "metadata": {
        "colab": {
          "base_uri": "https://localhost:8080/",
          "height": 1000
        },
        "id": "85YPTnmXzZFJ",
        "outputId": "eb6104bc-20af-4fb4-cf04-ab48541a9f4d"
      },
      "source": [
        "percent_missing = df_copy.isnull().sum() * 100 / len(df_copy)\n",
        "missing_value_df = pd.DataFrame({'column_name': df_copy.columns,\n",
        "                                 'percent_missing': percent_missing})\n",
        "\n",
        "missing_value_df.sort_values('percent_missing', inplace=True, ascending=False)\n",
        "missing_value_df"
      ],
      "execution_count": null,
      "outputs": [
        {
          "output_type": "execute_result",
          "data": {
            "text/html": [
              "<div>\n",
              "<style scoped>\n",
              "    .dataframe tbody tr th:only-of-type {\n",
              "        vertical-align: middle;\n",
              "    }\n",
              "\n",
              "    .dataframe tbody tr th {\n",
              "        vertical-align: top;\n",
              "    }\n",
              "\n",
              "    .dataframe thead th {\n",
              "        text-align: right;\n",
              "    }\n",
              "</style>\n",
              "<table border=\"1\" class=\"dataframe\">\n",
              "  <thead>\n",
              "    <tr style=\"text-align: right;\">\n",
              "      <th></th>\n",
              "      <th>column_name</th>\n",
              "      <th>percent_missing</th>\n",
              "    </tr>\n",
              "  </thead>\n",
              "  <tbody>\n",
              "    <tr>\n",
              "      <th>total_vaccinations</th>\n",
              "      <td>total_vaccinations</td>\n",
              "      <td>99.897626</td>\n",
              "    </tr>\n",
              "    <tr>\n",
              "      <th>total_vaccinations_per_hundred</th>\n",
              "      <td>total_vaccinations_per_hundred</td>\n",
              "      <td>99.897626</td>\n",
              "    </tr>\n",
              "    <tr>\n",
              "      <th>weekly_icu_admissions_per_million</th>\n",
              "      <td>weekly_icu_admissions_per_million</td>\n",
              "      <td>99.068043</td>\n",
              "    </tr>\n",
              "    <tr>\n",
              "      <th>weekly_icu_admissions</th>\n",
              "      <td>weekly_icu_admissions</td>\n",
              "      <td>99.068043</td>\n",
              "    </tr>\n",
              "    <tr>\n",
              "      <th>weekly_hosp_admissions_per_million</th>\n",
              "      <td>weekly_hosp_admissions_per_million</td>\n",
              "      <td>98.494396</td>\n",
              "    </tr>\n",
              "    <tr>\n",
              "      <th>weekly_hosp_admissions</th>\n",
              "      <td>weekly_hosp_admissions</td>\n",
              "      <td>98.494396</td>\n",
              "    </tr>\n",
              "    <tr>\n",
              "      <th>icu_patients</th>\n",
              "      <td>icu_patients</td>\n",
              "      <td>89.065396</td>\n",
              "    </tr>\n",
              "    <tr>\n",
              "      <th>icu_patients_per_million</th>\n",
              "      <td>icu_patients_per_million</td>\n",
              "      <td>89.065396</td>\n",
              "    </tr>\n",
              "    <tr>\n",
              "      <th>hosp_patients_per_million</th>\n",
              "      <td>hosp_patients_per_million</td>\n",
              "      <td>87.773365</td>\n",
              "    </tr>\n",
              "    <tr>\n",
              "      <th>hosp_patients</th>\n",
              "      <td>hosp_patients</td>\n",
              "      <td>87.773365</td>\n",
              "    </tr>\n",
              "    <tr>\n",
              "      <th>total_tests_per_thousand</th>\n",
              "      <td>total_tests_per_thousand</td>\n",
              "      <td>53.610449</td>\n",
              "    </tr>\n",
              "    <tr>\n",
              "      <th>total_tests</th>\n",
              "      <td>total_tests</td>\n",
              "      <td>53.610449</td>\n",
              "    </tr>\n",
              "    <tr>\n",
              "      <th>new_tests_per_thousand</th>\n",
              "      <td>new_tests_per_thousand</td>\n",
              "      <td>53.501015</td>\n",
              "    </tr>\n",
              "    <tr>\n",
              "      <th>new_tests</th>\n",
              "      <td>new_tests</td>\n",
              "      <td>53.501015</td>\n",
              "    </tr>\n",
              "    <tr>\n",
              "      <th>tests_per_case</th>\n",
              "      <td>tests_per_case</td>\n",
              "      <td>52.228400</td>\n",
              "    </tr>\n",
              "    <tr>\n",
              "      <th>handwashing_facilities</th>\n",
              "      <td>handwashing_facilities</td>\n",
              "      <td>51.944224</td>\n",
              "    </tr>\n",
              "    <tr>\n",
              "      <th>positive_rate</th>\n",
              "      <td>positive_rate</td>\n",
              "      <td>51.412938</td>\n",
              "    </tr>\n",
              "    <tr>\n",
              "      <th>new_tests_smoothed_per_thousand</th>\n",
              "      <td>new_tests_smoothed_per_thousand</td>\n",
              "      <td>47.963993</td>\n",
              "    </tr>\n",
              "    <tr>\n",
              "      <th>new_tests_smoothed</th>\n",
              "      <td>new_tests_smoothed</td>\n",
              "      <td>47.963993</td>\n",
              "    </tr>\n",
              "    <tr>\n",
              "      <th>tests_units</th>\n",
              "      <td>tests_units</td>\n",
              "      <td>46.027712</td>\n",
              "    </tr>\n",
              "    <tr>\n",
              "      <th>extreme_poverty</th>\n",
              "      <td>extreme_poverty</td>\n",
              "      <td>34.853058</td>\n",
              "    </tr>\n",
              "    <tr>\n",
              "      <th>male_smokers</th>\n",
              "      <td>male_smokers</td>\n",
              "      <td>25.062219</td>\n",
              "    </tr>\n",
              "    <tr>\n",
              "      <th>reproduction_rate</th>\n",
              "      <td>reproduction_rate</td>\n",
              "      <td>24.979260</td>\n",
              "    </tr>\n",
              "    <tr>\n",
              "      <th>female_smokers</th>\n",
              "      <td>female_smokers</td>\n",
              "      <td>24.022593</td>\n",
              "    </tr>\n",
              "    <tr>\n",
              "      <th>new_deaths_per_million</th>\n",
              "      <td>new_deaths_per_million</td>\n",
              "      <td>16.026829</td>\n",
              "    </tr>\n",
              "    <tr>\n",
              "      <th>total_deaths_per_million</th>\n",
              "      <td>total_deaths_per_million</td>\n",
              "      <td>16.025064</td>\n",
              "    </tr>\n",
              "    <tr>\n",
              "      <th>new_deaths</th>\n",
              "      <td>new_deaths</td>\n",
              "      <td>15.476127</td>\n",
              "    </tr>\n",
              "    <tr>\n",
              "      <th>total_deaths</th>\n",
              "      <td>total_deaths</td>\n",
              "      <td>15.474362</td>\n",
              "    </tr>\n",
              "    <tr>\n",
              "      <th>stringency_index</th>\n",
              "      <td>stringency_index</td>\n",
              "      <td>11.803018</td>\n",
              "    </tr>\n",
              "    <tr>\n",
              "      <th>hospital_beds_per_thousand</th>\n",
              "      <td>hospital_beds_per_thousand</td>\n",
              "      <td>11.592975</td>\n",
              "    </tr>\n",
              "    <tr>\n",
              "      <th>aged_65_older</th>\n",
              "      <td>aged_65_older</td>\n",
              "      <td>5.942988</td>\n",
              "    </tr>\n",
              "    <tr>\n",
              "      <th>aged_70_older</th>\n",
              "      <td>aged_70_older</td>\n",
              "      <td>5.374636</td>\n",
              "    </tr>\n",
              "    <tr>\n",
              "      <th>median_age</th>\n",
              "      <td>median_age</td>\n",
              "      <td>4.834525</td>\n",
              "    </tr>\n",
              "    <tr>\n",
              "      <th>gdp_per_capita</th>\n",
              "      <td>gdp_per_capita</td>\n",
              "      <td>4.820404</td>\n",
              "    </tr>\n",
              "    <tr>\n",
              "      <th>human_development_index</th>\n",
              "      <td>human_development_index</td>\n",
              "      <td>4.402083</td>\n",
              "    </tr>\n",
              "    <tr>\n",
              "      <th>cardiovasc_death_rate</th>\n",
              "      <td>cardiovasc_death_rate</td>\n",
              "      <td>3.849616</td>\n",
              "    </tr>\n",
              "    <tr>\n",
              "      <th>new_cases_smoothed_per_million</th>\n",
              "      <td>new_cases_smoothed_per_million</td>\n",
              "      <td>3.245962</td>\n",
              "    </tr>\n",
              "    <tr>\n",
              "      <th>new_deaths_smoothed_per_million</th>\n",
              "      <td>new_deaths_smoothed_per_million</td>\n",
              "      <td>3.245962</td>\n",
              "    </tr>\n",
              "    <tr>\n",
              "      <th>diabetes_prevalence</th>\n",
              "      <td>diabetes_prevalence</td>\n",
              "      <td>2.716442</td>\n",
              "    </tr>\n",
              "    <tr>\n",
              "      <th>new_cases_smoothed</th>\n",
              "      <td>new_cases_smoothed</td>\n",
              "      <td>2.681140</td>\n",
              "    </tr>\n",
              "    <tr>\n",
              "      <th>new_deaths_smoothed</th>\n",
              "      <td>new_deaths_smoothed</td>\n",
              "      <td>2.681140</td>\n",
              "    </tr>\n",
              "    <tr>\n",
              "      <th>population_density</th>\n",
              "      <td>population_density</td>\n",
              "      <td>2.677610</td>\n",
              "    </tr>\n",
              "    <tr>\n",
              "      <th>new_cases_per_million</th>\n",
              "      <td>new_cases_per_million</td>\n",
              "      <td>1.567382</td>\n",
              "    </tr>\n",
              "    <tr>\n",
              "      <th>total_cases_per_million</th>\n",
              "      <td>total_cases_per_million</td>\n",
              "      <td>1.556791</td>\n",
              "    </tr>\n",
              "    <tr>\n",
              "      <th>continent</th>\n",
              "      <td>continent</td>\n",
              "      <td>1.175536</td>\n",
              "    </tr>\n",
              "    <tr>\n",
              "      <th>life_expectancy</th>\n",
              "      <td>life_expectancy</td>\n",
              "      <td>1.083753</td>\n",
              "    </tr>\n",
              "    <tr>\n",
              "      <th>new_cases</th>\n",
              "      <td>new_cases</td>\n",
              "      <td>0.993734</td>\n",
              "    </tr>\n",
              "    <tr>\n",
              "      <th>total_cases</th>\n",
              "      <td>total_cases</td>\n",
              "      <td>0.983144</td>\n",
              "    </tr>\n",
              "    <tr>\n",
              "      <th>population</th>\n",
              "      <td>population</td>\n",
              "      <td>0.573648</td>\n",
              "    </tr>\n",
              "    <tr>\n",
              "      <th>iso_code</th>\n",
              "      <td>iso_code</td>\n",
              "      <td>0.573648</td>\n",
              "    </tr>\n",
              "    <tr>\n",
              "      <th>date</th>\n",
              "      <td>date</td>\n",
              "      <td>0.000000</td>\n",
              "    </tr>\n",
              "    <tr>\n",
              "      <th>location</th>\n",
              "      <td>location</td>\n",
              "      <td>0.000000</td>\n",
              "    </tr>\n",
              "  </tbody>\n",
              "</table>\n",
              "</div>"
            ],
            "text/plain": [
              "                                                           column_name  percent_missing\n",
              "total_vaccinations                                  total_vaccinations        99.897626\n",
              "total_vaccinations_per_hundred          total_vaccinations_per_hundred        99.897626\n",
              "weekly_icu_admissions_per_million    weekly_icu_admissions_per_million        99.068043\n",
              "weekly_icu_admissions                            weekly_icu_admissions        99.068043\n",
              "weekly_hosp_admissions_per_million  weekly_hosp_admissions_per_million        98.494396\n",
              "weekly_hosp_admissions                          weekly_hosp_admissions        98.494396\n",
              "icu_patients                                              icu_patients        89.065396\n",
              "icu_patients_per_million                      icu_patients_per_million        89.065396\n",
              "hosp_patients_per_million                    hosp_patients_per_million        87.773365\n",
              "hosp_patients                                            hosp_patients        87.773365\n",
              "total_tests_per_thousand                      total_tests_per_thousand        53.610449\n",
              "total_tests                                                total_tests        53.610449\n",
              "new_tests_per_thousand                          new_tests_per_thousand        53.501015\n",
              "new_tests                                                    new_tests        53.501015\n",
              "tests_per_case                                          tests_per_case        52.228400\n",
              "handwashing_facilities                          handwashing_facilities        51.944224\n",
              "positive_rate                                            positive_rate        51.412938\n",
              "new_tests_smoothed_per_thousand        new_tests_smoothed_per_thousand        47.963993\n",
              "new_tests_smoothed                                  new_tests_smoothed        47.963993\n",
              "tests_units                                                tests_units        46.027712\n",
              "extreme_poverty                                        extreme_poverty        34.853058\n",
              "male_smokers                                              male_smokers        25.062219\n",
              "reproduction_rate                                    reproduction_rate        24.979260\n",
              "female_smokers                                          female_smokers        24.022593\n",
              "new_deaths_per_million                          new_deaths_per_million        16.026829\n",
              "total_deaths_per_million                      total_deaths_per_million        16.025064\n",
              "new_deaths                                                  new_deaths        15.476127\n",
              "total_deaths                                              total_deaths        15.474362\n",
              "stringency_index                                      stringency_index        11.803018\n",
              "hospital_beds_per_thousand                  hospital_beds_per_thousand        11.592975\n",
              "aged_65_older                                            aged_65_older         5.942988\n",
              "aged_70_older                                            aged_70_older         5.374636\n",
              "median_age                                                  median_age         4.834525\n",
              "gdp_per_capita                                          gdp_per_capita         4.820404\n",
              "human_development_index                        human_development_index         4.402083\n",
              "cardiovasc_death_rate                            cardiovasc_death_rate         3.849616\n",
              "new_cases_smoothed_per_million          new_cases_smoothed_per_million         3.245962\n",
              "new_deaths_smoothed_per_million        new_deaths_smoothed_per_million         3.245962\n",
              "diabetes_prevalence                                diabetes_prevalence         2.716442\n",
              "new_cases_smoothed                                  new_cases_smoothed         2.681140\n",
              "new_deaths_smoothed                                new_deaths_smoothed         2.681140\n",
              "population_density                                  population_density         2.677610\n",
              "new_cases_per_million                            new_cases_per_million         1.567382\n",
              "total_cases_per_million                        total_cases_per_million         1.556791\n",
              "continent                                                    continent         1.175536\n",
              "life_expectancy                                        life_expectancy         1.083753\n",
              "new_cases                                                    new_cases         0.993734\n",
              "total_cases                                                total_cases         0.983144\n",
              "population                                                  population         0.573648\n",
              "iso_code                                                      iso_code         0.573648\n",
              "date                                                              date         0.000000\n",
              "location                                                      location         0.000000"
            ]
          },
          "metadata": {
            "tags": []
          },
          "execution_count": 18
        }
      ]
    },
    {
      "cell_type": "markdown",
      "metadata": {
        "id": "Q1TrTom90UvU"
      },
      "source": [
        "##### **Missing columns data**\n",
        "\n",
        "The columns below have more than 50% of the data miaaing"
      ]
    },
    {
      "cell_type": "code",
      "metadata": {
        "colab": {
          "base_uri": "https://localhost:8080/"
        },
        "id": "WpQueDiF0aRL",
        "outputId": "cf2a3627-5fb6-404c-f056-8ac12c0487d9"
      },
      "source": [
        "cols_too_many_missing = missing_value_df[missing_value_df.percent_missing > 50].index.tolist()\n",
        "len(cols_too_many_missing)\n",
        "cols_too_many_missing"
      ],
      "execution_count": null,
      "outputs": [
        {
          "output_type": "execute_result",
          "data": {
            "text/plain": [
              "17"
            ]
          },
          "metadata": {
            "tags": []
          },
          "execution_count": 19
        },
        {
          "output_type": "execute_result",
          "data": {
            "text/plain": [
              "['total_vaccinations',\n",
              " 'total_vaccinations_per_hundred',\n",
              " 'weekly_icu_admissions_per_million',\n",
              " 'weekly_icu_admissions',\n",
              " 'weekly_hosp_admissions_per_million',\n",
              " 'weekly_hosp_admissions',\n",
              " 'icu_patients',\n",
              " 'icu_patients_per_million',\n",
              " 'hosp_patients_per_million',\n",
              " 'hosp_patients',\n",
              " 'total_tests_per_thousand',\n",
              " 'total_tests',\n",
              " 'new_tests_per_thousand',\n",
              " 'new_tests',\n",
              " 'tests_per_case',\n",
              " 'handwashing_facilities',\n",
              " 'positive_rate']"
            ]
          },
          "metadata": {
            "tags": []
          },
          "execution_count": 19
        }
      ]
    },
    {
      "cell_type": "markdown",
      "metadata": {
        "id": "XFrWjiwg1b41"
      },
      "source": [
        "##### **Total Number of Columns**"
      ]
    },
    {
      "cell_type": "code",
      "metadata": {
        "colab": {
          "base_uri": "https://localhost:8080/"
        },
        "id": "OeQIIpLo1kw1",
        "outputId": "314788fa-232a-46e5-9ed9-cde382157935"
      },
      "source": [
        "len(df_copy.columns)"
      ],
      "execution_count": null,
      "outputs": [
        {
          "output_type": "execute_result",
          "data": {
            "text/plain": [
              "52"
            ]
          },
          "metadata": {
            "tags": []
          },
          "execution_count": 20
        }
      ]
    },
    {
      "cell_type": "markdown",
      "metadata": {
        "id": "BAwhNQU51uJf"
      },
      "source": [
        "##### **Columns (missing data columns removed)**"
      ]
    },
    {
      "cell_type": "code",
      "metadata": {
        "colab": {
          "base_uri": "https://localhost:8080/"
        },
        "id": "amv4v5Jc16TF",
        "outputId": "870458d9-650c-4e11-ce0b-f4a6bf70ba1e"
      },
      "source": [
        "df_reduced = df_copy.drop(columns=cols_too_many_missing)\n",
        "len(df_reduced.columns)"
      ],
      "execution_count": null,
      "outputs": [
        {
          "output_type": "execute_result",
          "data": {
            "text/plain": [
              "35"
            ]
          },
          "metadata": {
            "tags": []
          },
          "execution_count": 21
        }
      ]
    },
    {
      "cell_type": "markdown",
      "metadata": {
        "id": "RrZQXrH12dHe"
      },
      "source": [
        "##### **Reduced data**"
      ]
    },
    {
      "cell_type": "code",
      "metadata": {
        "colab": {
          "base_uri": "https://localhost:8080/",
          "height": 609
        },
        "id": "MJPOg37w2jvE",
        "outputId": "d40c7667-e50f-422c-aca2-bfa674118e70"
      },
      "source": [
        "df_reduced"
      ],
      "execution_count": null,
      "outputs": [
        {
          "output_type": "execute_result",
          "data": {
            "text/html": [
              "<div>\n",
              "<style scoped>\n",
              "    .dataframe tbody tr th:only-of-type {\n",
              "        vertical-align: middle;\n",
              "    }\n",
              "\n",
              "    .dataframe tbody tr th {\n",
              "        vertical-align: top;\n",
              "    }\n",
              "\n",
              "    .dataframe thead th {\n",
              "        text-align: right;\n",
              "    }\n",
              "</style>\n",
              "<table border=\"1\" class=\"dataframe\">\n",
              "  <thead>\n",
              "    <tr style=\"text-align: right;\">\n",
              "      <th></th>\n",
              "      <th>iso_code</th>\n",
              "      <th>continent</th>\n",
              "      <th>location</th>\n",
              "      <th>date</th>\n",
              "      <th>total_cases</th>\n",
              "      <th>new_cases</th>\n",
              "      <th>new_cases_smoothed</th>\n",
              "      <th>total_deaths</th>\n",
              "      <th>new_deaths</th>\n",
              "      <th>new_deaths_smoothed</th>\n",
              "      <th>total_cases_per_million</th>\n",
              "      <th>new_cases_per_million</th>\n",
              "      <th>new_cases_smoothed_per_million</th>\n",
              "      <th>total_deaths_per_million</th>\n",
              "      <th>new_deaths_per_million</th>\n",
              "      <th>new_deaths_smoothed_per_million</th>\n",
              "      <th>reproduction_rate</th>\n",
              "      <th>new_tests_smoothed</th>\n",
              "      <th>new_tests_smoothed_per_thousand</th>\n",
              "      <th>tests_units</th>\n",
              "      <th>stringency_index</th>\n",
              "      <th>population</th>\n",
              "      <th>population_density</th>\n",
              "      <th>median_age</th>\n",
              "      <th>aged_65_older</th>\n",
              "      <th>aged_70_older</th>\n",
              "      <th>gdp_per_capita</th>\n",
              "      <th>extreme_poverty</th>\n",
              "      <th>cardiovasc_death_rate</th>\n",
              "      <th>diabetes_prevalence</th>\n",
              "      <th>female_smokers</th>\n",
              "      <th>male_smokers</th>\n",
              "      <th>hospital_beds_per_thousand</th>\n",
              "      <th>life_expectancy</th>\n",
              "      <th>human_development_index</th>\n",
              "    </tr>\n",
              "  </thead>\n",
              "  <tbody>\n",
              "    <tr>\n",
              "      <th>0</th>\n",
              "      <td>AFG</td>\n",
              "      <td>Asia</td>\n",
              "      <td>Afghanistan</td>\n",
              "      <td>2020-02-24</td>\n",
              "      <td>1.0</td>\n",
              "      <td>1.0</td>\n",
              "      <td>NaN</td>\n",
              "      <td>NaN</td>\n",
              "      <td>NaN</td>\n",
              "      <td>NaN</td>\n",
              "      <td>0.026</td>\n",
              "      <td>0.026</td>\n",
              "      <td>NaN</td>\n",
              "      <td>NaN</td>\n",
              "      <td>NaN</td>\n",
              "      <td>NaN</td>\n",
              "      <td>NaN</td>\n",
              "      <td>NaN</td>\n",
              "      <td>NaN</td>\n",
              "      <td>NaN</td>\n",
              "      <td>8.33</td>\n",
              "      <td>38928341.0</td>\n",
              "      <td>54.422</td>\n",
              "      <td>18.6</td>\n",
              "      <td>2.581</td>\n",
              "      <td>1.337</td>\n",
              "      <td>1803.987</td>\n",
              "      <td>NaN</td>\n",
              "      <td>597.029</td>\n",
              "      <td>9.59</td>\n",
              "      <td>NaN</td>\n",
              "      <td>NaN</td>\n",
              "      <td>0.5</td>\n",
              "      <td>64.83</td>\n",
              "      <td>0.498</td>\n",
              "    </tr>\n",
              "    <tr>\n",
              "      <th>1</th>\n",
              "      <td>AFG</td>\n",
              "      <td>Asia</td>\n",
              "      <td>Afghanistan</td>\n",
              "      <td>2020-02-25</td>\n",
              "      <td>1.0</td>\n",
              "      <td>0.0</td>\n",
              "      <td>NaN</td>\n",
              "      <td>NaN</td>\n",
              "      <td>NaN</td>\n",
              "      <td>NaN</td>\n",
              "      <td>0.026</td>\n",
              "      <td>0.000</td>\n",
              "      <td>NaN</td>\n",
              "      <td>NaN</td>\n",
              "      <td>NaN</td>\n",
              "      <td>NaN</td>\n",
              "      <td>NaN</td>\n",
              "      <td>NaN</td>\n",
              "      <td>NaN</td>\n",
              "      <td>NaN</td>\n",
              "      <td>8.33</td>\n",
              "      <td>38928341.0</td>\n",
              "      <td>54.422</td>\n",
              "      <td>18.6</td>\n",
              "      <td>2.581</td>\n",
              "      <td>1.337</td>\n",
              "      <td>1803.987</td>\n",
              "      <td>NaN</td>\n",
              "      <td>597.029</td>\n",
              "      <td>9.59</td>\n",
              "      <td>NaN</td>\n",
              "      <td>NaN</td>\n",
              "      <td>0.5</td>\n",
              "      <td>64.83</td>\n",
              "      <td>0.498</td>\n",
              "    </tr>\n",
              "    <tr>\n",
              "      <th>2</th>\n",
              "      <td>AFG</td>\n",
              "      <td>Asia</td>\n",
              "      <td>Afghanistan</td>\n",
              "      <td>2020-02-26</td>\n",
              "      <td>1.0</td>\n",
              "      <td>0.0</td>\n",
              "      <td>NaN</td>\n",
              "      <td>NaN</td>\n",
              "      <td>NaN</td>\n",
              "      <td>NaN</td>\n",
              "      <td>0.026</td>\n",
              "      <td>0.000</td>\n",
              "      <td>NaN</td>\n",
              "      <td>NaN</td>\n",
              "      <td>NaN</td>\n",
              "      <td>NaN</td>\n",
              "      <td>NaN</td>\n",
              "      <td>NaN</td>\n",
              "      <td>NaN</td>\n",
              "      <td>NaN</td>\n",
              "      <td>8.33</td>\n",
              "      <td>38928341.0</td>\n",
              "      <td>54.422</td>\n",
              "      <td>18.6</td>\n",
              "      <td>2.581</td>\n",
              "      <td>1.337</td>\n",
              "      <td>1803.987</td>\n",
              "      <td>NaN</td>\n",
              "      <td>597.029</td>\n",
              "      <td>9.59</td>\n",
              "      <td>NaN</td>\n",
              "      <td>NaN</td>\n",
              "      <td>0.5</td>\n",
              "      <td>64.83</td>\n",
              "      <td>0.498</td>\n",
              "    </tr>\n",
              "    <tr>\n",
              "      <th>3</th>\n",
              "      <td>AFG</td>\n",
              "      <td>Asia</td>\n",
              "      <td>Afghanistan</td>\n",
              "      <td>2020-02-27</td>\n",
              "      <td>1.0</td>\n",
              "      <td>0.0</td>\n",
              "      <td>NaN</td>\n",
              "      <td>NaN</td>\n",
              "      <td>NaN</td>\n",
              "      <td>NaN</td>\n",
              "      <td>0.026</td>\n",
              "      <td>0.000</td>\n",
              "      <td>NaN</td>\n",
              "      <td>NaN</td>\n",
              "      <td>NaN</td>\n",
              "      <td>NaN</td>\n",
              "      <td>NaN</td>\n",
              "      <td>NaN</td>\n",
              "      <td>NaN</td>\n",
              "      <td>NaN</td>\n",
              "      <td>8.33</td>\n",
              "      <td>38928341.0</td>\n",
              "      <td>54.422</td>\n",
              "      <td>18.6</td>\n",
              "      <td>2.581</td>\n",
              "      <td>1.337</td>\n",
              "      <td>1803.987</td>\n",
              "      <td>NaN</td>\n",
              "      <td>597.029</td>\n",
              "      <td>9.59</td>\n",
              "      <td>NaN</td>\n",
              "      <td>NaN</td>\n",
              "      <td>0.5</td>\n",
              "      <td>64.83</td>\n",
              "      <td>0.498</td>\n",
              "    </tr>\n",
              "    <tr>\n",
              "      <th>4</th>\n",
              "      <td>AFG</td>\n",
              "      <td>Asia</td>\n",
              "      <td>Afghanistan</td>\n",
              "      <td>2020-02-28</td>\n",
              "      <td>1.0</td>\n",
              "      <td>0.0</td>\n",
              "      <td>NaN</td>\n",
              "      <td>NaN</td>\n",
              "      <td>NaN</td>\n",
              "      <td>NaN</td>\n",
              "      <td>0.026</td>\n",
              "      <td>0.000</td>\n",
              "      <td>NaN</td>\n",
              "      <td>NaN</td>\n",
              "      <td>NaN</td>\n",
              "      <td>NaN</td>\n",
              "      <td>NaN</td>\n",
              "      <td>NaN</td>\n",
              "      <td>NaN</td>\n",
              "      <td>NaN</td>\n",
              "      <td>8.33</td>\n",
              "      <td>38928341.0</td>\n",
              "      <td>54.422</td>\n",
              "      <td>18.6</td>\n",
              "      <td>2.581</td>\n",
              "      <td>1.337</td>\n",
              "      <td>1803.987</td>\n",
              "      <td>NaN</td>\n",
              "      <td>597.029</td>\n",
              "      <td>9.59</td>\n",
              "      <td>NaN</td>\n",
              "      <td>NaN</td>\n",
              "      <td>0.5</td>\n",
              "      <td>64.83</td>\n",
              "      <td>0.498</td>\n",
              "    </tr>\n",
              "    <tr>\n",
              "      <th>...</th>\n",
              "      <td>...</td>\n",
              "      <td>...</td>\n",
              "      <td>...</td>\n",
              "      <td>...</td>\n",
              "      <td>...</td>\n",
              "      <td>...</td>\n",
              "      <td>...</td>\n",
              "      <td>...</td>\n",
              "      <td>...</td>\n",
              "      <td>...</td>\n",
              "      <td>...</td>\n",
              "      <td>...</td>\n",
              "      <td>...</td>\n",
              "      <td>...</td>\n",
              "      <td>...</td>\n",
              "      <td>...</td>\n",
              "      <td>...</td>\n",
              "      <td>...</td>\n",
              "      <td>...</td>\n",
              "      <td>...</td>\n",
              "      <td>...</td>\n",
              "      <td>...</td>\n",
              "      <td>...</td>\n",
              "      <td>...</td>\n",
              "      <td>...</td>\n",
              "      <td>...</td>\n",
              "      <td>...</td>\n",
              "      <td>...</td>\n",
              "      <td>...</td>\n",
              "      <td>...</td>\n",
              "      <td>...</td>\n",
              "      <td>...</td>\n",
              "      <td>...</td>\n",
              "      <td>...</td>\n",
              "      <td>...</td>\n",
              "    </tr>\n",
              "    <tr>\n",
              "      <th>56650</th>\n",
              "      <td>ZWE</td>\n",
              "      <td>Africa</td>\n",
              "      <td>Zimbabwe</td>\n",
              "      <td>2020-12-23</td>\n",
              "      <td>12656.0</td>\n",
              "      <td>112.0</td>\n",
              "      <td>129.571</td>\n",
              "      <td>330.0</td>\n",
              "      <td>4.0</td>\n",
              "      <td>2.429</td>\n",
              "      <td>851.515</td>\n",
              "      <td>7.536</td>\n",
              "      <td>8.718</td>\n",
              "      <td>22.203</td>\n",
              "      <td>0.269</td>\n",
              "      <td>0.163</td>\n",
              "      <td>NaN</td>\n",
              "      <td>1710.0</td>\n",
              "      <td>0.115</td>\n",
              "      <td>tests performed</td>\n",
              "      <td>NaN</td>\n",
              "      <td>14862927.0</td>\n",
              "      <td>42.729</td>\n",
              "      <td>19.6</td>\n",
              "      <td>2.822</td>\n",
              "      <td>1.882</td>\n",
              "      <td>1899.775</td>\n",
              "      <td>21.4</td>\n",
              "      <td>307.846</td>\n",
              "      <td>1.82</td>\n",
              "      <td>1.6</td>\n",
              "      <td>30.7</td>\n",
              "      <td>1.7</td>\n",
              "      <td>61.49</td>\n",
              "      <td>0.535</td>\n",
              "    </tr>\n",
              "    <tr>\n",
              "      <th>56651</th>\n",
              "      <td>ZWE</td>\n",
              "      <td>Africa</td>\n",
              "      <td>Zimbabwe</td>\n",
              "      <td>2020-12-24</td>\n",
              "      <td>12786.0</td>\n",
              "      <td>130.0</td>\n",
              "      <td>131.429</td>\n",
              "      <td>339.0</td>\n",
              "      <td>9.0</td>\n",
              "      <td>3.571</td>\n",
              "      <td>860.261</td>\n",
              "      <td>8.747</td>\n",
              "      <td>8.843</td>\n",
              "      <td>22.808</td>\n",
              "      <td>0.606</td>\n",
              "      <td>0.240</td>\n",
              "      <td>NaN</td>\n",
              "      <td>1697.0</td>\n",
              "      <td>0.114</td>\n",
              "      <td>tests performed</td>\n",
              "      <td>NaN</td>\n",
              "      <td>14862927.0</td>\n",
              "      <td>42.729</td>\n",
              "      <td>19.6</td>\n",
              "      <td>2.822</td>\n",
              "      <td>1.882</td>\n",
              "      <td>1899.775</td>\n",
              "      <td>21.4</td>\n",
              "      <td>307.846</td>\n",
              "      <td>1.82</td>\n",
              "      <td>1.6</td>\n",
              "      <td>30.7</td>\n",
              "      <td>1.7</td>\n",
              "      <td>61.49</td>\n",
              "      <td>0.535</td>\n",
              "    </tr>\n",
              "    <tr>\n",
              "      <th>56652</th>\n",
              "      <td>ZWE</td>\n",
              "      <td>Africa</td>\n",
              "      <td>Zimbabwe</td>\n",
              "      <td>2020-12-25</td>\n",
              "      <td>12880.0</td>\n",
              "      <td>94.0</td>\n",
              "      <td>119.000</td>\n",
              "      <td>341.0</td>\n",
              "      <td>2.0</td>\n",
              "      <td>3.571</td>\n",
              "      <td>866.586</td>\n",
              "      <td>6.324</td>\n",
              "      <td>8.006</td>\n",
              "      <td>22.943</td>\n",
              "      <td>0.135</td>\n",
              "      <td>0.240</td>\n",
              "      <td>NaN</td>\n",
              "      <td>1632.0</td>\n",
              "      <td>0.110</td>\n",
              "      <td>tests performed</td>\n",
              "      <td>NaN</td>\n",
              "      <td>14862927.0</td>\n",
              "      <td>42.729</td>\n",
              "      <td>19.6</td>\n",
              "      <td>2.822</td>\n",
              "      <td>1.882</td>\n",
              "      <td>1899.775</td>\n",
              "      <td>21.4</td>\n",
              "      <td>307.846</td>\n",
              "      <td>1.82</td>\n",
              "      <td>1.6</td>\n",
              "      <td>30.7</td>\n",
              "      <td>1.7</td>\n",
              "      <td>61.49</td>\n",
              "      <td>0.535</td>\n",
              "    </tr>\n",
              "    <tr>\n",
              "      <th>56653</th>\n",
              "      <td>ZWE</td>\n",
              "      <td>Africa</td>\n",
              "      <td>Zimbabwe</td>\n",
              "      <td>2020-12-26</td>\n",
              "      <td>12963.0</td>\n",
              "      <td>83.0</td>\n",
              "      <td>116.000</td>\n",
              "      <td>341.0</td>\n",
              "      <td>0.0</td>\n",
              "      <td>3.286</td>\n",
              "      <td>872.170</td>\n",
              "      <td>5.584</td>\n",
              "      <td>7.805</td>\n",
              "      <td>22.943</td>\n",
              "      <td>0.000</td>\n",
              "      <td>0.221</td>\n",
              "      <td>NaN</td>\n",
              "      <td>1576.0</td>\n",
              "      <td>0.106</td>\n",
              "      <td>tests performed</td>\n",
              "      <td>NaN</td>\n",
              "      <td>14862927.0</td>\n",
              "      <td>42.729</td>\n",
              "      <td>19.6</td>\n",
              "      <td>2.822</td>\n",
              "      <td>1.882</td>\n",
              "      <td>1899.775</td>\n",
              "      <td>21.4</td>\n",
              "      <td>307.846</td>\n",
              "      <td>1.82</td>\n",
              "      <td>1.6</td>\n",
              "      <td>30.7</td>\n",
              "      <td>1.7</td>\n",
              "      <td>61.49</td>\n",
              "      <td>0.535</td>\n",
              "    </tr>\n",
              "    <tr>\n",
              "      <th>56654</th>\n",
              "      <td>ZWE</td>\n",
              "      <td>Africa</td>\n",
              "      <td>Zimbabwe</td>\n",
              "      <td>2020-12-27</td>\n",
              "      <td>13077.0</td>\n",
              "      <td>114.0</td>\n",
              "      <td>107.429</td>\n",
              "      <td>349.0</td>\n",
              "      <td>8.0</td>\n",
              "      <td>4.143</td>\n",
              "      <td>879.840</td>\n",
              "      <td>7.670</td>\n",
              "      <td>7.228</td>\n",
              "      <td>23.481</td>\n",
              "      <td>0.538</td>\n",
              "      <td>0.279</td>\n",
              "      <td>NaN</td>\n",
              "      <td>1414.0</td>\n",
              "      <td>0.095</td>\n",
              "      <td>tests performed</td>\n",
              "      <td>NaN</td>\n",
              "      <td>14862927.0</td>\n",
              "      <td>42.729</td>\n",
              "      <td>19.6</td>\n",
              "      <td>2.822</td>\n",
              "      <td>1.882</td>\n",
              "      <td>1899.775</td>\n",
              "      <td>21.4</td>\n",
              "      <td>307.846</td>\n",
              "      <td>1.82</td>\n",
              "      <td>1.6</td>\n",
              "      <td>30.7</td>\n",
              "      <td>1.7</td>\n",
              "      <td>61.49</td>\n",
              "      <td>0.535</td>\n",
              "    </tr>\n",
              "  </tbody>\n",
              "</table>\n",
              "<p>56655 rows × 35 columns</p>\n",
              "</div>"
            ],
            "text/plain": [
              "      iso_code continent  ... life_expectancy human_development_index\n",
              "0          AFG      Asia  ...           64.83                   0.498\n",
              "1          AFG      Asia  ...           64.83                   0.498\n",
              "2          AFG      Asia  ...           64.83                   0.498\n",
              "3          AFG      Asia  ...           64.83                   0.498\n",
              "4          AFG      Asia  ...           64.83                   0.498\n",
              "...        ...       ...  ...             ...                     ...\n",
              "56650      ZWE    Africa  ...           61.49                   0.535\n",
              "56651      ZWE    Africa  ...           61.49                   0.535\n",
              "56652      ZWE    Africa  ...           61.49                   0.535\n",
              "56653      ZWE    Africa  ...           61.49                   0.535\n",
              "56654      ZWE    Africa  ...           61.49                   0.535\n",
              "\n",
              "[56655 rows x 35 columns]"
            ]
          },
          "metadata": {
            "tags": []
          },
          "execution_count": 22
        }
      ]
    },
    {
      "cell_type": "markdown",
      "metadata": {
        "id": "FL0vvmSE3XZz"
      },
      "source": [
        "##### **Set reduced data as default dataframe**"
      ]
    },
    {
      "cell_type": "code",
      "metadata": {
        "colab": {
          "base_uri": "https://localhost:8080/"
        },
        "id": "Ai9bpwiO3gy9",
        "outputId": "e2759fe3-ad0f-4a88-ae25-ffbd6f1ef599"
      },
      "source": [
        "df = df_reduced\n",
        "df.info()"
      ],
      "execution_count": null,
      "outputs": [
        {
          "output_type": "stream",
          "text": [
            "<class 'pandas.core.frame.DataFrame'>\n",
            "RangeIndex: 56655 entries, 0 to 56654\n",
            "Data columns (total 35 columns):\n",
            " #   Column                           Non-Null Count  Dtype  \n",
            "---  ------                           --------------  -----  \n",
            " 0   iso_code                         56330 non-null  object \n",
            " 1   continent                        55989 non-null  object \n",
            " 2   location                         56655 non-null  object \n",
            " 3   date                             56655 non-null  object \n",
            " 4   total_cases                      56098 non-null  float64\n",
            " 5   new_cases                        56092 non-null  float64\n",
            " 6   new_cases_smoothed               55136 non-null  float64\n",
            " 7   total_deaths                     47888 non-null  float64\n",
            " 8   new_deaths                       47887 non-null  float64\n",
            " 9   new_deaths_smoothed              55136 non-null  float64\n",
            " 10  total_cases_per_million          55773 non-null  float64\n",
            " 11  new_cases_per_million            55767 non-null  float64\n",
            " 12  new_cases_smoothed_per_million   54816 non-null  float64\n",
            " 13  total_deaths_per_million         47576 non-null  float64\n",
            " 14  new_deaths_per_million           47575 non-null  float64\n",
            " 15  new_deaths_smoothed_per_million  54816 non-null  float64\n",
            " 16  reproduction_rate                42503 non-null  float64\n",
            " 17  new_tests_smoothed               29481 non-null  float64\n",
            " 18  new_tests_smoothed_per_thousand  29481 non-null  float64\n",
            " 19  tests_units                      30578 non-null  object \n",
            " 20  stringency_index                 49968 non-null  float64\n",
            " 21  population                       56330 non-null  float64\n",
            " 22  population_density               55138 non-null  float64\n",
            " 23  median_age                       53916 non-null  float64\n",
            " 24  aged_65_older                    53288 non-null  float64\n",
            " 25  aged_70_older                    53610 non-null  float64\n",
            " 26  gdp_per_capita                   53924 non-null  float64\n",
            " 27  extreme_poverty                  36909 non-null  float64\n",
            " 28  cardiovasc_death_rate            54474 non-null  float64\n",
            " 29  diabetes_prevalence              55116 non-null  float64\n",
            " 30  female_smokers                   43045 non-null  float64\n",
            " 31  male_smokers                     42456 non-null  float64\n",
            " 32  hospital_beds_per_thousand       50087 non-null  float64\n",
            " 33  life_expectancy                  56041 non-null  float64\n",
            " 34  human_development_index          54161 non-null  float64\n",
            "dtypes: float64(30), object(5)\n",
            "memory usage: 15.1+ MB\n"
          ],
          "name": "stdout"
        }
      ]
    },
    {
      "cell_type": "markdown",
      "metadata": {
        "id": "i5zi923830-w"
      },
      "source": [
        "##### **Remove rows that dont have country ISO and continent**"
      ]
    },
    {
      "cell_type": "code",
      "metadata": {
        "colab": {
          "base_uri": "https://localhost:8080/"
        },
        "id": "JurWqhJG39e0",
        "outputId": "98f52e49-8acc-4e05-8a4b-969550d98ed8"
      },
      "source": [
        "missing_iso_code = df[df.iso_code.isna()]\n",
        "df = df.drop(index=missing_iso_code.index)\n",
        "\n",
        "missing_continent = df[df.continent.isna()]\n",
        "df = df.drop(index=missing_continent.index)\n",
        "\n",
        "for col in df.columns: \n",
        "    col, df[col].isna().sum()"
      ],
      "execution_count": null,
      "outputs": [
        {
          "output_type": "execute_result",
          "data": {
            "text/plain": [
              "('iso_code', 0)"
            ]
          },
          "metadata": {
            "tags": []
          },
          "execution_count": 24
        },
        {
          "output_type": "execute_result",
          "data": {
            "text/plain": [
              "('continent', 0)"
            ]
          },
          "metadata": {
            "tags": []
          },
          "execution_count": 24
        },
        {
          "output_type": "execute_result",
          "data": {
            "text/plain": [
              "('location', 0)"
            ]
          },
          "metadata": {
            "tags": []
          },
          "execution_count": 24
        },
        {
          "output_type": "execute_result",
          "data": {
            "text/plain": [
              "('date', 0)"
            ]
          },
          "metadata": {
            "tags": []
          },
          "execution_count": 24
        },
        {
          "output_type": "execute_result",
          "data": {
            "text/plain": [
              "('total_cases', 557)"
            ]
          },
          "metadata": {
            "tags": []
          },
          "execution_count": 24
        },
        {
          "output_type": "execute_result",
          "data": {
            "text/plain": [
              "('new_cases', 563)"
            ]
          },
          "metadata": {
            "tags": []
          },
          "execution_count": 24
        },
        {
          "output_type": "execute_result",
          "data": {
            "text/plain": [
              "('new_cases_smoothed', 1508)"
            ]
          },
          "metadata": {
            "tags": []
          },
          "execution_count": 24
        },
        {
          "output_type": "execute_result",
          "data": {
            "text/plain": [
              "('total_deaths', 8754)"
            ]
          },
          "metadata": {
            "tags": []
          },
          "execution_count": 24
        },
        {
          "output_type": "execute_result",
          "data": {
            "text/plain": [
              "('new_deaths', 8755)"
            ]
          },
          "metadata": {
            "tags": []
          },
          "execution_count": 24
        },
        {
          "output_type": "execute_result",
          "data": {
            "text/plain": [
              "('new_deaths_smoothed', 1508)"
            ]
          },
          "metadata": {
            "tags": []
          },
          "execution_count": 24
        },
        {
          "output_type": "execute_result",
          "data": {
            "text/plain": [
              "('total_cases_per_million', 557)"
            ]
          },
          "metadata": {
            "tags": []
          },
          "execution_count": 24
        },
        {
          "output_type": "execute_result",
          "data": {
            "text/plain": [
              "('new_cases_per_million', 563)"
            ]
          },
          "metadata": {
            "tags": []
          },
          "execution_count": 24
        },
        {
          "output_type": "execute_result",
          "data": {
            "text/plain": [
              "('new_cases_smoothed_per_million', 1508)"
            ]
          },
          "metadata": {
            "tags": []
          },
          "execution_count": 24
        },
        {
          "output_type": "execute_result",
          "data": {
            "text/plain": [
              "('total_deaths_per_million', 8754)"
            ]
          },
          "metadata": {
            "tags": []
          },
          "execution_count": 24
        },
        {
          "output_type": "execute_result",
          "data": {
            "text/plain": [
              "('new_deaths_per_million', 8755)"
            ]
          },
          "metadata": {
            "tags": []
          },
          "execution_count": 24
        },
        {
          "output_type": "execute_result",
          "data": {
            "text/plain": [
              "('new_deaths_smoothed_per_million', 1508)"
            ]
          },
          "metadata": {
            "tags": []
          },
          "execution_count": 24
        },
        {
          "output_type": "execute_result",
          "data": {
            "text/plain": [
              "('reproduction_rate', 13803)"
            ]
          },
          "metadata": {
            "tags": []
          },
          "execution_count": 24
        },
        {
          "output_type": "execute_result",
          "data": {
            "text/plain": [
              "('new_tests_smoothed', 26508)"
            ]
          },
          "metadata": {
            "tags": []
          },
          "execution_count": 24
        },
        {
          "output_type": "execute_result",
          "data": {
            "text/plain": [
              "('new_tests_smoothed_per_thousand', 26508)"
            ]
          },
          "metadata": {
            "tags": []
          },
          "execution_count": 24
        },
        {
          "output_type": "execute_result",
          "data": {
            "text/plain": [
              "('tests_units', 25411)"
            ]
          },
          "metadata": {
            "tags": []
          },
          "execution_count": 24
        },
        {
          "output_type": "execute_result",
          "data": {
            "text/plain": [
              "('stringency_index', 6021)"
            ]
          },
          "metadata": {
            "tags": []
          },
          "execution_count": 24
        },
        {
          "output_type": "execute_result",
          "data": {
            "text/plain": [
              "('population', 0)"
            ]
          },
          "metadata": {
            "tags": []
          },
          "execution_count": 24
        },
        {
          "output_type": "execute_result",
          "data": {
            "text/plain": [
              "('population_density', 1192)"
            ]
          },
          "metadata": {
            "tags": []
          },
          "execution_count": 24
        },
        {
          "output_type": "execute_result",
          "data": {
            "text/plain": [
              "('median_age', 2414)"
            ]
          },
          "metadata": {
            "tags": []
          },
          "execution_count": 24
        },
        {
          "output_type": "execute_result",
          "data": {
            "text/plain": [
              "('aged_65_older', 3042)"
            ]
          },
          "metadata": {
            "tags": []
          },
          "execution_count": 24
        },
        {
          "output_type": "execute_result",
          "data": {
            "text/plain": [
              "('aged_70_older', 2720)"
            ]
          },
          "metadata": {
            "tags": []
          },
          "execution_count": 24
        },
        {
          "output_type": "execute_result",
          "data": {
            "text/plain": [
              "('gdp_per_capita', 2406)"
            ]
          },
          "metadata": {
            "tags": []
          },
          "execution_count": 24
        },
        {
          "output_type": "execute_result",
          "data": {
            "text/plain": [
              "('extreme_poverty', 19421)"
            ]
          },
          "metadata": {
            "tags": []
          },
          "execution_count": 24
        },
        {
          "output_type": "execute_result",
          "data": {
            "text/plain": [
              "('cardiovasc_death_rate', 1856)"
            ]
          },
          "metadata": {
            "tags": []
          },
          "execution_count": 24
        },
        {
          "output_type": "execute_result",
          "data": {
            "text/plain": [
              "('diabetes_prevalence', 1214)"
            ]
          },
          "metadata": {
            "tags": []
          },
          "execution_count": 24
        },
        {
          "output_type": "execute_result",
          "data": {
            "text/plain": [
              "('female_smokers', 13285)"
            ]
          },
          "metadata": {
            "tags": []
          },
          "execution_count": 24
        },
        {
          "output_type": "execute_result",
          "data": {
            "text/plain": [
              "('male_smokers', 13874)"
            ]
          },
          "metadata": {
            "tags": []
          },
          "execution_count": 24
        },
        {
          "output_type": "execute_result",
          "data": {
            "text/plain": [
              "('hospital_beds_per_thousand', 6243)"
            ]
          },
          "metadata": {
            "tags": []
          },
          "execution_count": 24
        },
        {
          "output_type": "execute_result",
          "data": {
            "text/plain": [
              "('life_expectancy', 289)"
            ]
          },
          "metadata": {
            "tags": []
          },
          "execution_count": 24
        },
        {
          "output_type": "execute_result",
          "data": {
            "text/plain": [
              "('human_development_index', 1828)"
            ]
          },
          "metadata": {
            "tags": []
          },
          "execution_count": 24
        }
      ]
    },
    {
      "cell_type": "markdown",
      "metadata": {
        "id": "n_x7M5bC4304"
      },
      "source": [
        "### **3. Data Preprocessing**\n",
        "\n",
        "#### Remove rows and columns that have too many **NaNs**"
      ]
    },
    {
      "cell_type": "code",
      "metadata": {
        "id": "HiCuTmTv5Kjc"
      },
      "source": [
        "from sklearn.preprocessing import LabelEncoder\n",
        "from sklearn.model_selection import train_test_split"
      ],
      "execution_count": null,
      "outputs": []
    },
    {
      "cell_type": "markdown",
      "metadata": {
        "id": "LroLcTLD5nVJ"
      },
      "source": [
        "##### **Encoding data**"
      ]
    },
    {
      "cell_type": "code",
      "metadata": {
        "colab": {
          "base_uri": "https://localhost:8080/"
        },
        "id": "77NPbJTv5rs2",
        "outputId": "c528960e-e19e-4971-e001-d34b42b97e0b"
      },
      "source": [
        "nominal = df.select_dtypes(include=['object']).copy()\n",
        "nominal_cols = nominal.columns.tolist()\n",
        "nominal_cols"
      ],
      "execution_count": null,
      "outputs": [
        {
          "output_type": "execute_result",
          "data": {
            "text/plain": [
              "['iso_code', 'continent', 'location', 'date', 'tests_units']"
            ]
          },
          "metadata": {
            "tags": []
          },
          "execution_count": 26
        }
      ]
    },
    {
      "cell_type": "code",
      "metadata": {
        "colab": {
          "base_uri": "https://localhost:8080/",
          "height": 35
        },
        "id": "mjoMAeqF6CAe",
        "outputId": "8861749f-8a42-49a1-b9b8-d46b357cfd4b"
      },
      "source": [
        "encoder = LabelEncoder()\n",
        "for col in nominal_cols:\n",
        "    col\n",
        "    if df[col].isna().sum() > 0:\n",
        "        df[col].fillna('MISSING', inplace=True)\n",
        "    df[col] = encoder.fit_transform(df[col])"
      ],
      "execution_count": null,
      "outputs": [
        {
          "output_type": "execute_result",
          "data": {
            "application/vnd.google.colaboratory.intrinsic+json": {
              "type": "string"
            },
            "text/plain": [
              "'iso_code'"
            ]
          },
          "metadata": {
            "tags": []
          },
          "execution_count": 27
        },
        {
          "output_type": "execute_result",
          "data": {
            "application/vnd.google.colaboratory.intrinsic+json": {
              "type": "string"
            },
            "text/plain": [
              "'continent'"
            ]
          },
          "metadata": {
            "tags": []
          },
          "execution_count": 27
        },
        {
          "output_type": "execute_result",
          "data": {
            "application/vnd.google.colaboratory.intrinsic+json": {
              "type": "string"
            },
            "text/plain": [
              "'location'"
            ]
          },
          "metadata": {
            "tags": []
          },
          "execution_count": 27
        },
        {
          "output_type": "execute_result",
          "data": {
            "application/vnd.google.colaboratory.intrinsic+json": {
              "type": "string"
            },
            "text/plain": [
              "'date'"
            ]
          },
          "metadata": {
            "tags": []
          },
          "execution_count": 27
        },
        {
          "output_type": "execute_result",
          "data": {
            "application/vnd.google.colaboratory.intrinsic+json": {
              "type": "string"
            },
            "text/plain": [
              "'tests_units'"
            ]
          },
          "metadata": {
            "tags": []
          },
          "execution_count": 27
        }
      ]
    },
    {
      "cell_type": "code",
      "metadata": {
        "colab": {
          "base_uri": "https://localhost:8080/"
        },
        "id": "cwOpsk_Q6TcU",
        "outputId": "d3d7b0a2-b5c8-4d96-9536-5dfe27038d09"
      },
      "source": [
        "for col in nominal_cols:\n",
        "    df[col].unique()"
      ],
      "execution_count": null,
      "outputs": [
        {
          "output_type": "execute_result",
          "data": {
            "text/plain": [
              "array([  0,   2,  49,   3,   1,   7,   5,   6,   8,   9,  10,  18,  17,\n",
              "        15,  24,  20,  12,  21,  13,  26,  22,  19,  27,  23,  25,  16,\n",
              "        14,  11,  90,  34,  29,  39,  28, 165,  31,  32,  37,  38,  36,\n",
              "        40,  33,  73,  41,  42,  43,  35,  47,  45,  46,  48,  50,  51,\n",
              "       152,  66,  52,  54, 162,  55,  57,  56,  58,  59,  64,  61,  44,\n",
              "        62,  67,  68,  69,  63,  65,  70,  74,  72,  71,  75,  81,  77,\n",
              "        76,  79,  80,  78,  82,  83,  84,  86,  85,  87,  88, 132,  93,\n",
              "        89,  94, 104,  95, 101,  96,  97,  99, 102, 103, 108, 121, 122,\n",
              "       109, 113, 114, 111, 119, 120, 110, 107, 106, 117, 116, 105, 118,\n",
              "       115, 123, 129, 127, 130, 126, 124, 125, 112, 128, 131, 133, 141,\n",
              "       134, 137, 140, 135, 136, 138, 139, 142, 143, 144, 145,  91,  98,\n",
              "       181, 185, 153, 157, 146, 148, 155, 163, 151, 149, 159, 160, 150,\n",
              "       154, 187,  92, 156,  53, 100, 147, 158, 161,  30, 164, 173, 168,\n",
              "       174, 167, 169, 166, 170, 171, 172, 175, 176,   4,  60, 178, 177,\n",
              "       179, 184, 180, 182, 183, 186, 188, 189])"
            ]
          },
          "metadata": {
            "tags": []
          },
          "execution_count": 28
        },
        {
          "output_type": "execute_result",
          "data": {
            "text/plain": [
              "array([1, 2, 0, 3, 5, 4])"
            ]
          },
          "metadata": {
            "tags": []
          },
          "execution_count": 28
        },
        {
          "output_type": "execute_result",
          "data": {
            "text/plain": [
              "array([  0,   1,   2,   3,   4,   5,   6,   7,   8,   9,  10,  11,  12,\n",
              "        13,  14,  15,  16,  17,  18,  19,  20,  21,  22,  23,  24,  25,\n",
              "        26,  27,  28,  29,  30,  31,  32,  33,  34,  35,  36,  37,  38,\n",
              "        39,  40,  41,  42,  43,  44,  45,  46,  47,  48,  49,  50,  51,\n",
              "        52,  53,  54,  55,  56,  57,  58,  59,  60,  61,  62,  63,  64,\n",
              "        65,  66,  67,  68,  69,  70,  71,  72,  73,  74,  75,  76,  77,\n",
              "        78,  79,  80,  81,  82,  83,  84,  85,  86,  87,  88,  89,  90,\n",
              "        91,  92,  93,  94,  95,  96,  97,  98,  99, 100, 101, 102, 103,\n",
              "       104, 105, 106, 107, 108, 109, 110, 111, 112, 113, 114, 115, 116,\n",
              "       117, 118, 119, 120, 121, 122, 123, 124, 125, 126, 127, 128, 129,\n",
              "       130, 131, 132, 133, 134, 135, 136, 137, 138, 139, 140, 141, 142,\n",
              "       143, 144, 145, 146, 147, 148, 149, 150, 151, 152, 153, 154, 155,\n",
              "       156, 157, 158, 159, 160, 161, 162, 163, 164, 165, 166, 167, 168,\n",
              "       169, 170, 171, 172, 173, 174, 175, 176, 177, 178, 179, 180, 181,\n",
              "       182, 183, 184, 185, 186, 187, 188, 189])"
            ]
          },
          "metadata": {
            "tags": []
          },
          "execution_count": 28
        },
        {
          "output_type": "execute_result",
          "data": {
            "text/plain": [
              "array([ 54,  55,  56,  57,  58,  59,  60,  61,  62,  63,  64,  65,  66,\n",
              "        67,  68,  69,  70,  71,  72,  73,  74,  75,  76,  77,  78,  79,\n",
              "        80,  81,  82,  83,  84,  85,  86,  87,  88,  89,  90,  91,  92,\n",
              "        93,  94,  95,  96,  97,  98,  99, 100, 101, 102, 103, 104, 105,\n",
              "       106, 107, 108, 109, 110, 111, 112, 113, 114, 115, 116, 117, 118,\n",
              "       119, 120, 121, 122, 123, 124, 125, 126, 127, 128, 129, 130, 131,\n",
              "       132, 133, 134, 135, 136, 137, 138, 139, 140, 141, 142, 143, 144,\n",
              "       145, 146, 147, 148, 149, 150, 151, 152, 153, 154, 155, 156, 157,\n",
              "       158, 159, 160, 161, 162, 163, 164, 165, 166, 167, 168, 169, 170,\n",
              "       171, 172, 173, 174, 175, 176, 177, 178, 179, 180, 181, 182, 183,\n",
              "       184, 185, 186, 187, 188, 189, 190, 191, 192, 193, 194, 195, 196,\n",
              "       197, 198, 199, 200, 201, 202, 203, 204, 205, 206, 207, 208, 209,\n",
              "       210, 211, 212, 213, 214, 215, 216, 217, 218, 219, 220, 221, 222,\n",
              "       223, 224, 225, 226, 227, 228, 229, 230, 231, 232, 233, 234, 235,\n",
              "       236, 237, 238, 239, 240, 241, 242, 243, 244, 245, 246, 247, 248,\n",
              "       249, 250, 251, 252, 253, 254, 255, 256, 257, 258, 259, 260, 261,\n",
              "       262, 263, 264, 265, 266, 267, 268, 269, 270, 271, 272, 273, 274,\n",
              "       275, 276, 277, 278, 279, 280, 281, 282, 283, 284, 285, 286, 287,\n",
              "       288, 289, 290, 291, 292, 293, 294, 295, 296, 297, 298, 299, 300,\n",
              "       301, 302, 303, 304, 305, 306, 307, 308, 309, 310, 311, 312, 313,\n",
              "       314, 315, 316, 317, 318, 319, 320, 321, 322, 323, 324, 325, 326,\n",
              "       327, 328, 329, 330, 331, 332, 333, 334, 335, 336, 337, 338, 339,\n",
              "       340, 341, 342, 343, 344, 345, 346, 347, 348, 349, 350, 351, 352,\n",
              "       353, 354, 355, 356, 357, 358, 359, 360, 361,   0,  33,  34,  35,\n",
              "        36,  37,  38,  39,  40,  41,  42,  43,  44,  45,  46,  47,  48,\n",
              "        49,  50,  51,  52,  53,  25,  26,  27,  28,  29,  30,  31,  32,\n",
              "        21,  22,  23,  24,   1,   2,   3,   4,   5,   6,   7,   8,   9,\n",
              "        10,  11,  12,  13,  14,  15,  16,  17,  18,  19,  20])"
            ]
          },
          "metadata": {
            "tags": []
          },
          "execution_count": 28
        },
        {
          "output_type": "execute_result",
          "data": {
            "text/plain": [
              "array([0, 1, 3, 4, 2])"
            ]
          },
          "metadata": {
            "tags": []
          },
          "execution_count": 28
        }
      ]
    },
    {
      "cell_type": "markdown",
      "metadata": {
        "id": "Ox1PwmKv_Ie8"
      },
      "source": [
        "### **4. Data Imputation**\n",
        "\n",
        "#### Imputation for data with missing numerical values"
      ]
    },
    {
      "cell_type": "code",
      "metadata": {
        "colab": {
          "base_uri": "https://localhost:8080/",
          "height": 439
        },
        "id": "wlSB9vvt_mEo",
        "outputId": "dd3cc15d-449a-40bd-cf1e-9aea9772d19c"
      },
      "source": [
        "# Data before imputation\n",
        "numerical = df.select_dtypes(include=['float64']).copy()\n",
        "numerical"
      ],
      "execution_count": null,
      "outputs": [
        {
          "output_type": "execute_result",
          "data": {
            "text/html": [
              "<div>\n",
              "<style scoped>\n",
              "    .dataframe tbody tr th:only-of-type {\n",
              "        vertical-align: middle;\n",
              "    }\n",
              "\n",
              "    .dataframe tbody tr th {\n",
              "        vertical-align: top;\n",
              "    }\n",
              "\n",
              "    .dataframe thead th {\n",
              "        text-align: right;\n",
              "    }\n",
              "</style>\n",
              "<table border=\"1\" class=\"dataframe\">\n",
              "  <thead>\n",
              "    <tr style=\"text-align: right;\">\n",
              "      <th></th>\n",
              "      <th>total_cases</th>\n",
              "      <th>new_cases</th>\n",
              "      <th>new_cases_smoothed</th>\n",
              "      <th>total_deaths</th>\n",
              "      <th>new_deaths</th>\n",
              "      <th>new_deaths_smoothed</th>\n",
              "      <th>total_cases_per_million</th>\n",
              "      <th>new_cases_per_million</th>\n",
              "      <th>new_cases_smoothed_per_million</th>\n",
              "      <th>total_deaths_per_million</th>\n",
              "      <th>new_deaths_per_million</th>\n",
              "      <th>new_deaths_smoothed_per_million</th>\n",
              "      <th>reproduction_rate</th>\n",
              "      <th>new_tests_smoothed</th>\n",
              "      <th>new_tests_smoothed_per_thousand</th>\n",
              "      <th>stringency_index</th>\n",
              "      <th>population</th>\n",
              "      <th>population_density</th>\n",
              "      <th>median_age</th>\n",
              "      <th>aged_65_older</th>\n",
              "      <th>aged_70_older</th>\n",
              "      <th>gdp_per_capita</th>\n",
              "      <th>extreme_poverty</th>\n",
              "      <th>cardiovasc_death_rate</th>\n",
              "      <th>diabetes_prevalence</th>\n",
              "      <th>female_smokers</th>\n",
              "      <th>male_smokers</th>\n",
              "      <th>hospital_beds_per_thousand</th>\n",
              "      <th>life_expectancy</th>\n",
              "      <th>human_development_index</th>\n",
              "    </tr>\n",
              "  </thead>\n",
              "  <tbody>\n",
              "    <tr>\n",
              "      <th>0</th>\n",
              "      <td>1.0</td>\n",
              "      <td>1.0</td>\n",
              "      <td>NaN</td>\n",
              "      <td>NaN</td>\n",
              "      <td>NaN</td>\n",
              "      <td>NaN</td>\n",
              "      <td>0.026</td>\n",
              "      <td>0.026</td>\n",
              "      <td>NaN</td>\n",
              "      <td>NaN</td>\n",
              "      <td>NaN</td>\n",
              "      <td>NaN</td>\n",
              "      <td>NaN</td>\n",
              "      <td>NaN</td>\n",
              "      <td>NaN</td>\n",
              "      <td>8.33</td>\n",
              "      <td>38928341.0</td>\n",
              "      <td>54.422</td>\n",
              "      <td>18.6</td>\n",
              "      <td>2.581</td>\n",
              "      <td>1.337</td>\n",
              "      <td>1803.987</td>\n",
              "      <td>NaN</td>\n",
              "      <td>597.029</td>\n",
              "      <td>9.59</td>\n",
              "      <td>NaN</td>\n",
              "      <td>NaN</td>\n",
              "      <td>0.5</td>\n",
              "      <td>64.83</td>\n",
              "      <td>0.498</td>\n",
              "    </tr>\n",
              "    <tr>\n",
              "      <th>1</th>\n",
              "      <td>1.0</td>\n",
              "      <td>0.0</td>\n",
              "      <td>NaN</td>\n",
              "      <td>NaN</td>\n",
              "      <td>NaN</td>\n",
              "      <td>NaN</td>\n",
              "      <td>0.026</td>\n",
              "      <td>0.000</td>\n",
              "      <td>NaN</td>\n",
              "      <td>NaN</td>\n",
              "      <td>NaN</td>\n",
              "      <td>NaN</td>\n",
              "      <td>NaN</td>\n",
              "      <td>NaN</td>\n",
              "      <td>NaN</td>\n",
              "      <td>8.33</td>\n",
              "      <td>38928341.0</td>\n",
              "      <td>54.422</td>\n",
              "      <td>18.6</td>\n",
              "      <td>2.581</td>\n",
              "      <td>1.337</td>\n",
              "      <td>1803.987</td>\n",
              "      <td>NaN</td>\n",
              "      <td>597.029</td>\n",
              "      <td>9.59</td>\n",
              "      <td>NaN</td>\n",
              "      <td>NaN</td>\n",
              "      <td>0.5</td>\n",
              "      <td>64.83</td>\n",
              "      <td>0.498</td>\n",
              "    </tr>\n",
              "    <tr>\n",
              "      <th>2</th>\n",
              "      <td>1.0</td>\n",
              "      <td>0.0</td>\n",
              "      <td>NaN</td>\n",
              "      <td>NaN</td>\n",
              "      <td>NaN</td>\n",
              "      <td>NaN</td>\n",
              "      <td>0.026</td>\n",
              "      <td>0.000</td>\n",
              "      <td>NaN</td>\n",
              "      <td>NaN</td>\n",
              "      <td>NaN</td>\n",
              "      <td>NaN</td>\n",
              "      <td>NaN</td>\n",
              "      <td>NaN</td>\n",
              "      <td>NaN</td>\n",
              "      <td>8.33</td>\n",
              "      <td>38928341.0</td>\n",
              "      <td>54.422</td>\n",
              "      <td>18.6</td>\n",
              "      <td>2.581</td>\n",
              "      <td>1.337</td>\n",
              "      <td>1803.987</td>\n",
              "      <td>NaN</td>\n",
              "      <td>597.029</td>\n",
              "      <td>9.59</td>\n",
              "      <td>NaN</td>\n",
              "      <td>NaN</td>\n",
              "      <td>0.5</td>\n",
              "      <td>64.83</td>\n",
              "      <td>0.498</td>\n",
              "    </tr>\n",
              "    <tr>\n",
              "      <th>3</th>\n",
              "      <td>1.0</td>\n",
              "      <td>0.0</td>\n",
              "      <td>NaN</td>\n",
              "      <td>NaN</td>\n",
              "      <td>NaN</td>\n",
              "      <td>NaN</td>\n",
              "      <td>0.026</td>\n",
              "      <td>0.000</td>\n",
              "      <td>NaN</td>\n",
              "      <td>NaN</td>\n",
              "      <td>NaN</td>\n",
              "      <td>NaN</td>\n",
              "      <td>NaN</td>\n",
              "      <td>NaN</td>\n",
              "      <td>NaN</td>\n",
              "      <td>8.33</td>\n",
              "      <td>38928341.0</td>\n",
              "      <td>54.422</td>\n",
              "      <td>18.6</td>\n",
              "      <td>2.581</td>\n",
              "      <td>1.337</td>\n",
              "      <td>1803.987</td>\n",
              "      <td>NaN</td>\n",
              "      <td>597.029</td>\n",
              "      <td>9.59</td>\n",
              "      <td>NaN</td>\n",
              "      <td>NaN</td>\n",
              "      <td>0.5</td>\n",
              "      <td>64.83</td>\n",
              "      <td>0.498</td>\n",
              "    </tr>\n",
              "    <tr>\n",
              "      <th>4</th>\n",
              "      <td>1.0</td>\n",
              "      <td>0.0</td>\n",
              "      <td>NaN</td>\n",
              "      <td>NaN</td>\n",
              "      <td>NaN</td>\n",
              "      <td>NaN</td>\n",
              "      <td>0.026</td>\n",
              "      <td>0.000</td>\n",
              "      <td>NaN</td>\n",
              "      <td>NaN</td>\n",
              "      <td>NaN</td>\n",
              "      <td>NaN</td>\n",
              "      <td>NaN</td>\n",
              "      <td>NaN</td>\n",
              "      <td>NaN</td>\n",
              "      <td>8.33</td>\n",
              "      <td>38928341.0</td>\n",
              "      <td>54.422</td>\n",
              "      <td>18.6</td>\n",
              "      <td>2.581</td>\n",
              "      <td>1.337</td>\n",
              "      <td>1803.987</td>\n",
              "      <td>NaN</td>\n",
              "      <td>597.029</td>\n",
              "      <td>9.59</td>\n",
              "      <td>NaN</td>\n",
              "      <td>NaN</td>\n",
              "      <td>0.5</td>\n",
              "      <td>64.83</td>\n",
              "      <td>0.498</td>\n",
              "    </tr>\n",
              "    <tr>\n",
              "      <th>...</th>\n",
              "      <td>...</td>\n",
              "      <td>...</td>\n",
              "      <td>...</td>\n",
              "      <td>...</td>\n",
              "      <td>...</td>\n",
              "      <td>...</td>\n",
              "      <td>...</td>\n",
              "      <td>...</td>\n",
              "      <td>...</td>\n",
              "      <td>...</td>\n",
              "      <td>...</td>\n",
              "      <td>...</td>\n",
              "      <td>...</td>\n",
              "      <td>...</td>\n",
              "      <td>...</td>\n",
              "      <td>...</td>\n",
              "      <td>...</td>\n",
              "      <td>...</td>\n",
              "      <td>...</td>\n",
              "      <td>...</td>\n",
              "      <td>...</td>\n",
              "      <td>...</td>\n",
              "      <td>...</td>\n",
              "      <td>...</td>\n",
              "      <td>...</td>\n",
              "      <td>...</td>\n",
              "      <td>...</td>\n",
              "      <td>...</td>\n",
              "      <td>...</td>\n",
              "      <td>...</td>\n",
              "    </tr>\n",
              "    <tr>\n",
              "      <th>56650</th>\n",
              "      <td>12656.0</td>\n",
              "      <td>112.0</td>\n",
              "      <td>129.571</td>\n",
              "      <td>330.0</td>\n",
              "      <td>4.0</td>\n",
              "      <td>2.429</td>\n",
              "      <td>851.515</td>\n",
              "      <td>7.536</td>\n",
              "      <td>8.718</td>\n",
              "      <td>22.203</td>\n",
              "      <td>0.269</td>\n",
              "      <td>0.163</td>\n",
              "      <td>NaN</td>\n",
              "      <td>1710.0</td>\n",
              "      <td>0.115</td>\n",
              "      <td>NaN</td>\n",
              "      <td>14862927.0</td>\n",
              "      <td>42.729</td>\n",
              "      <td>19.6</td>\n",
              "      <td>2.822</td>\n",
              "      <td>1.882</td>\n",
              "      <td>1899.775</td>\n",
              "      <td>21.4</td>\n",
              "      <td>307.846</td>\n",
              "      <td>1.82</td>\n",
              "      <td>1.6</td>\n",
              "      <td>30.7</td>\n",
              "      <td>1.7</td>\n",
              "      <td>61.49</td>\n",
              "      <td>0.535</td>\n",
              "    </tr>\n",
              "    <tr>\n",
              "      <th>56651</th>\n",
              "      <td>12786.0</td>\n",
              "      <td>130.0</td>\n",
              "      <td>131.429</td>\n",
              "      <td>339.0</td>\n",
              "      <td>9.0</td>\n",
              "      <td>3.571</td>\n",
              "      <td>860.261</td>\n",
              "      <td>8.747</td>\n",
              "      <td>8.843</td>\n",
              "      <td>22.808</td>\n",
              "      <td>0.606</td>\n",
              "      <td>0.240</td>\n",
              "      <td>NaN</td>\n",
              "      <td>1697.0</td>\n",
              "      <td>0.114</td>\n",
              "      <td>NaN</td>\n",
              "      <td>14862927.0</td>\n",
              "      <td>42.729</td>\n",
              "      <td>19.6</td>\n",
              "      <td>2.822</td>\n",
              "      <td>1.882</td>\n",
              "      <td>1899.775</td>\n",
              "      <td>21.4</td>\n",
              "      <td>307.846</td>\n",
              "      <td>1.82</td>\n",
              "      <td>1.6</td>\n",
              "      <td>30.7</td>\n",
              "      <td>1.7</td>\n",
              "      <td>61.49</td>\n",
              "      <td>0.535</td>\n",
              "    </tr>\n",
              "    <tr>\n",
              "      <th>56652</th>\n",
              "      <td>12880.0</td>\n",
              "      <td>94.0</td>\n",
              "      <td>119.000</td>\n",
              "      <td>341.0</td>\n",
              "      <td>2.0</td>\n",
              "      <td>3.571</td>\n",
              "      <td>866.586</td>\n",
              "      <td>6.324</td>\n",
              "      <td>8.006</td>\n",
              "      <td>22.943</td>\n",
              "      <td>0.135</td>\n",
              "      <td>0.240</td>\n",
              "      <td>NaN</td>\n",
              "      <td>1632.0</td>\n",
              "      <td>0.110</td>\n",
              "      <td>NaN</td>\n",
              "      <td>14862927.0</td>\n",
              "      <td>42.729</td>\n",
              "      <td>19.6</td>\n",
              "      <td>2.822</td>\n",
              "      <td>1.882</td>\n",
              "      <td>1899.775</td>\n",
              "      <td>21.4</td>\n",
              "      <td>307.846</td>\n",
              "      <td>1.82</td>\n",
              "      <td>1.6</td>\n",
              "      <td>30.7</td>\n",
              "      <td>1.7</td>\n",
              "      <td>61.49</td>\n",
              "      <td>0.535</td>\n",
              "    </tr>\n",
              "    <tr>\n",
              "      <th>56653</th>\n",
              "      <td>12963.0</td>\n",
              "      <td>83.0</td>\n",
              "      <td>116.000</td>\n",
              "      <td>341.0</td>\n",
              "      <td>0.0</td>\n",
              "      <td>3.286</td>\n",
              "      <td>872.170</td>\n",
              "      <td>5.584</td>\n",
              "      <td>7.805</td>\n",
              "      <td>22.943</td>\n",
              "      <td>0.000</td>\n",
              "      <td>0.221</td>\n",
              "      <td>NaN</td>\n",
              "      <td>1576.0</td>\n",
              "      <td>0.106</td>\n",
              "      <td>NaN</td>\n",
              "      <td>14862927.0</td>\n",
              "      <td>42.729</td>\n",
              "      <td>19.6</td>\n",
              "      <td>2.822</td>\n",
              "      <td>1.882</td>\n",
              "      <td>1899.775</td>\n",
              "      <td>21.4</td>\n",
              "      <td>307.846</td>\n",
              "      <td>1.82</td>\n",
              "      <td>1.6</td>\n",
              "      <td>30.7</td>\n",
              "      <td>1.7</td>\n",
              "      <td>61.49</td>\n",
              "      <td>0.535</td>\n",
              "    </tr>\n",
              "    <tr>\n",
              "      <th>56654</th>\n",
              "      <td>13077.0</td>\n",
              "      <td>114.0</td>\n",
              "      <td>107.429</td>\n",
              "      <td>349.0</td>\n",
              "      <td>8.0</td>\n",
              "      <td>4.143</td>\n",
              "      <td>879.840</td>\n",
              "      <td>7.670</td>\n",
              "      <td>7.228</td>\n",
              "      <td>23.481</td>\n",
              "      <td>0.538</td>\n",
              "      <td>0.279</td>\n",
              "      <td>NaN</td>\n",
              "      <td>1414.0</td>\n",
              "      <td>0.095</td>\n",
              "      <td>NaN</td>\n",
              "      <td>14862927.0</td>\n",
              "      <td>42.729</td>\n",
              "      <td>19.6</td>\n",
              "      <td>2.822</td>\n",
              "      <td>1.882</td>\n",
              "      <td>1899.775</td>\n",
              "      <td>21.4</td>\n",
              "      <td>307.846</td>\n",
              "      <td>1.82</td>\n",
              "      <td>1.6</td>\n",
              "      <td>30.7</td>\n",
              "      <td>1.7</td>\n",
              "      <td>61.49</td>\n",
              "      <td>0.535</td>\n",
              "    </tr>\n",
              "  </tbody>\n",
              "</table>\n",
              "<p>55989 rows × 30 columns</p>\n",
              "</div>"
            ],
            "text/plain": [
              "       total_cases  new_cases  ...  life_expectancy  human_development_index\n",
              "0              1.0        1.0  ...            64.83                    0.498\n",
              "1              1.0        0.0  ...            64.83                    0.498\n",
              "2              1.0        0.0  ...            64.83                    0.498\n",
              "3              1.0        0.0  ...            64.83                    0.498\n",
              "4              1.0        0.0  ...            64.83                    0.498\n",
              "...            ...        ...  ...              ...                      ...\n",
              "56650      12656.0      112.0  ...            61.49                    0.535\n",
              "56651      12786.0      130.0  ...            61.49                    0.535\n",
              "56652      12880.0       94.0  ...            61.49                    0.535\n",
              "56653      12963.0       83.0  ...            61.49                    0.535\n",
              "56654      13077.0      114.0  ...            61.49                    0.535\n",
              "\n",
              "[55989 rows x 30 columns]"
            ]
          },
          "metadata": {
            "tags": []
          },
          "execution_count": 29
        }
      ]
    },
    {
      "cell_type": "code",
      "metadata": {
        "colab": {
          "base_uri": "https://localhost:8080/"
        },
        "id": "X2Cc1x4N_OqU",
        "outputId": "51ac8dd9-f0c3-4006-b4a4-2d625e6a5f6c"
      },
      "source": [
        "# Total New Cases count\n",
        "df.total_cases"
      ],
      "execution_count": null,
      "outputs": [
        {
          "output_type": "execute_result",
          "data": {
            "text/plain": [
              "0            1.0\n",
              "1            1.0\n",
              "2            1.0\n",
              "3            1.0\n",
              "4            1.0\n",
              "          ...   \n",
              "56650    12656.0\n",
              "56651    12786.0\n",
              "56652    12880.0\n",
              "56653    12963.0\n",
              "56654    13077.0\n",
              "Name: total_cases, Length: 55989, dtype: float64"
            ]
          },
          "metadata": {
            "tags": []
          },
          "execution_count": 30
        }
      ]
    },
    {
      "cell_type": "code",
      "metadata": {
        "id": "h2UAMG8nArcA"
      },
      "source": [
        "# Use Mean for imputation\n",
        "for col in numerical:\n",
        "    df[col].fillna((df[col].mean()), inplace=True)"
      ],
      "execution_count": null,
      "outputs": []
    },
    {
      "cell_type": "code",
      "metadata": {
        "colab": {
          "base_uri": "https://localhost:8080/"
        },
        "id": "Zl-5CfLOA0bO",
        "outputId": "4f187c74-430d-476c-ab47-c62079d4b4e8"
      },
      "source": [
        "# Check that data does not contain NaNs and is completely encoded\n",
        "df.isna().sum().sum() == 0"
      ],
      "execution_count": null,
      "outputs": [
        {
          "output_type": "execute_result",
          "data": {
            "text/plain": [
              "True"
            ]
          },
          "metadata": {
            "tags": []
          },
          "execution_count": 32
        }
      ]
    },
    {
      "cell_type": "markdown",
      "metadata": {
        "id": "6NUTOGSQBNsM"
      },
      "source": [
        "### **5. Split into Traiing and Test data**"
      ]
    },
    {
      "cell_type": "code",
      "metadata": {
        "id": "8FK0v06ZBUVn"
      },
      "source": [
        "X = df.drop(columns=['new_cases'])\n",
        "y = df.new_cases\n",
        "X_train, X_test, y_train, y_test = train_test_split(X, y, test_size=0.30, random_state=0)"
      ],
      "execution_count": null,
      "outputs": []
    },
    {
      "cell_type": "markdown",
      "metadata": {
        "id": "pVA79yEPBpjg"
      },
      "source": [
        "##### **Training Data**"
      ]
    },
    {
      "cell_type": "code",
      "metadata": {
        "colab": {
          "base_uri": "https://localhost:8080/",
          "height": 439
        },
        "id": "QJTMid3jBuEG",
        "outputId": "0bae71c0-1992-4a47-df33-ca21f93d91c5"
      },
      "source": [
        "X_train"
      ],
      "execution_count": null,
      "outputs": [
        {
          "output_type": "execute_result",
          "data": {
            "text/html": [
              "<div>\n",
              "<style scoped>\n",
              "    .dataframe tbody tr th:only-of-type {\n",
              "        vertical-align: middle;\n",
              "    }\n",
              "\n",
              "    .dataframe tbody tr th {\n",
              "        vertical-align: top;\n",
              "    }\n",
              "\n",
              "    .dataframe thead th {\n",
              "        text-align: right;\n",
              "    }\n",
              "</style>\n",
              "<table border=\"1\" class=\"dataframe\">\n",
              "  <thead>\n",
              "    <tr style=\"text-align: right;\">\n",
              "      <th></th>\n",
              "      <th>iso_code</th>\n",
              "      <th>continent</th>\n",
              "      <th>location</th>\n",
              "      <th>date</th>\n",
              "      <th>total_cases</th>\n",
              "      <th>new_cases_smoothed</th>\n",
              "      <th>total_deaths</th>\n",
              "      <th>new_deaths</th>\n",
              "      <th>new_deaths_smoothed</th>\n",
              "      <th>total_cases_per_million</th>\n",
              "      <th>new_cases_per_million</th>\n",
              "      <th>new_cases_smoothed_per_million</th>\n",
              "      <th>total_deaths_per_million</th>\n",
              "      <th>new_deaths_per_million</th>\n",
              "      <th>new_deaths_smoothed_per_million</th>\n",
              "      <th>reproduction_rate</th>\n",
              "      <th>new_tests_smoothed</th>\n",
              "      <th>new_tests_smoothed_per_thousand</th>\n",
              "      <th>tests_units</th>\n",
              "      <th>stringency_index</th>\n",
              "      <th>population</th>\n",
              "      <th>population_density</th>\n",
              "      <th>median_age</th>\n",
              "      <th>aged_65_older</th>\n",
              "      <th>aged_70_older</th>\n",
              "      <th>gdp_per_capita</th>\n",
              "      <th>extreme_poverty</th>\n",
              "      <th>cardiovasc_death_rate</th>\n",
              "      <th>diabetes_prevalence</th>\n",
              "      <th>female_smokers</th>\n",
              "      <th>male_smokers</th>\n",
              "      <th>hospital_beds_per_thousand</th>\n",
              "      <th>life_expectancy</th>\n",
              "      <th>human_development_index</th>\n",
              "    </tr>\n",
              "  </thead>\n",
              "  <tbody>\n",
              "    <tr>\n",
              "      <th>43837</th>\n",
              "      <td>146</td>\n",
              "      <td>1</td>\n",
              "      <td>147</td>\n",
              "      <td>152</td>\n",
              "      <td>87142.0</td>\n",
              "      <td>1763.857</td>\n",
              "      <td>525.000000</td>\n",
              "      <td>22.000000</td>\n",
              "      <td>18.000</td>\n",
              "      <td>2503.083</td>\n",
              "      <td>54.030</td>\n",
              "      <td>50.665</td>\n",
              "      <td>15.08000</td>\n",
              "      <td>0.632000</td>\n",
              "      <td>0.517</td>\n",
              "      <td>1.090000</td>\n",
              "      <td>16463.000000</td>\n",
              "      <td>0.473000</td>\n",
              "      <td>3</td>\n",
              "      <td>75.460000</td>\n",
              "      <td>34813867.0</td>\n",
              "      <td>15.322</td>\n",
              "      <td>31.9</td>\n",
              "      <td>3.295</td>\n",
              "      <td>1.845</td>\n",
              "      <td>49045.411</td>\n",
              "      <td>13.151477</td>\n",
              "      <td>259.538</td>\n",
              "      <td>17.72</td>\n",
              "      <td>1.800000</td>\n",
              "      <td>25.400000</td>\n",
              "      <td>2.70</td>\n",
              "      <td>75.13</td>\n",
              "      <td>0.853</td>\n",
              "    </tr>\n",
              "    <tr>\n",
              "      <th>16149</th>\n",
              "      <td>66</td>\n",
              "      <td>0</td>\n",
              "      <td>53</td>\n",
              "      <td>343</td>\n",
              "      <td>5183.0</td>\n",
              "      <td>3.857</td>\n",
              "      <td>85.000000</td>\n",
              "      <td>0.000000</td>\n",
              "      <td>0.000</td>\n",
              "      <td>3694.266</td>\n",
              "      <td>12.117</td>\n",
              "      <td>2.749</td>\n",
              "      <td>60.58500</td>\n",
              "      <td>0.000000</td>\n",
              "      <td>0.000</td>\n",
              "      <td>1.041022</td>\n",
              "      <td>31672.844781</td>\n",
              "      <td>1.036943</td>\n",
              "      <td>0</td>\n",
              "      <td>59.378963</td>\n",
              "      <td>1402985.0</td>\n",
              "      <td>45.194</td>\n",
              "      <td>22.4</td>\n",
              "      <td>2.846</td>\n",
              "      <td>1.752</td>\n",
              "      <td>22604.873</td>\n",
              "      <td>13.151477</td>\n",
              "      <td>202.812</td>\n",
              "      <td>7.78</td>\n",
              "      <td>10.625859</td>\n",
              "      <td>32.630963</td>\n",
              "      <td>2.10</td>\n",
              "      <td>58.74</td>\n",
              "      <td>0.591</td>\n",
              "    </tr>\n",
              "    <tr>\n",
              "      <th>45666</th>\n",
              "      <td>159</td>\n",
              "      <td>2</td>\n",
              "      <td>153</td>\n",
              "      <td>173</td>\n",
              "      <td>1588.0</td>\n",
              "      <td>5.143</td>\n",
              "      <td>28.000000</td>\n",
              "      <td>0.000000</td>\n",
              "      <td>0.000</td>\n",
              "      <td>290.862</td>\n",
              "      <td>0.183</td>\n",
              "      <td>0.942</td>\n",
              "      <td>5.12900</td>\n",
              "      <td>0.000000</td>\n",
              "      <td>0.000</td>\n",
              "      <td>1.430000</td>\n",
              "      <td>720.000000</td>\n",
              "      <td>0.132000</td>\n",
              "      <td>3</td>\n",
              "      <td>37.960000</td>\n",
              "      <td>5459643.0</td>\n",
              "      <td>113.128</td>\n",
              "      <td>41.2</td>\n",
              "      <td>15.070</td>\n",
              "      <td>9.167</td>\n",
              "      <td>30155.152</td>\n",
              "      <td>0.700000</td>\n",
              "      <td>287.959</td>\n",
              "      <td>7.29</td>\n",
              "      <td>23.100000</td>\n",
              "      <td>37.700000</td>\n",
              "      <td>5.82</td>\n",
              "      <td>77.54</td>\n",
              "      <td>0.855</td>\n",
              "    </tr>\n",
              "    <tr>\n",
              "      <th>14910</th>\n",
              "      <td>48</td>\n",
              "      <td>3</td>\n",
              "      <td>49</td>\n",
              "      <td>296</td>\n",
              "      <td>122873.0</td>\n",
              "      <td>346.143</td>\n",
              "      <td>2212.000000</td>\n",
              "      <td>0.000000</td>\n",
              "      <td>2.857</td>\n",
              "      <td>11326.889</td>\n",
              "      <td>0.000</td>\n",
              "      <td>31.909</td>\n",
              "      <td>203.91000</td>\n",
              "      <td>0.000000</td>\n",
              "      <td>0.263</td>\n",
              "      <td>1.000000</td>\n",
              "      <td>3362.000000</td>\n",
              "      <td>0.310000</td>\n",
              "      <td>2</td>\n",
              "      <td>67.590000</td>\n",
              "      <td>10847904.0</td>\n",
              "      <td>222.873</td>\n",
              "      <td>27.6</td>\n",
              "      <td>6.981</td>\n",
              "      <td>4.419</td>\n",
              "      <td>14600.861</td>\n",
              "      <td>1.600000</td>\n",
              "      <td>266.653</td>\n",
              "      <td>8.20</td>\n",
              "      <td>8.500000</td>\n",
              "      <td>19.100000</td>\n",
              "      <td>1.60</td>\n",
              "      <td>74.08</td>\n",
              "      <td>0.736</td>\n",
              "    </tr>\n",
              "    <tr>\n",
              "      <th>29477</th>\n",
              "      <td>97</td>\n",
              "      <td>0</td>\n",
              "      <td>97</td>\n",
              "      <td>296</td>\n",
              "      <td>53384.0</td>\n",
              "      <td>791.286</td>\n",
              "      <td>774.000000</td>\n",
              "      <td>6.000000</td>\n",
              "      <td>10.714</td>\n",
              "      <td>7769.141</td>\n",
              "      <td>111.187</td>\n",
              "      <td>115.158</td>\n",
              "      <td>112.64300</td>\n",
              "      <td>0.873000</td>\n",
              "      <td>1.559</td>\n",
              "      <td>1.060000</td>\n",
              "      <td>31672.844781</td>\n",
              "      <td>1.036943</td>\n",
              "      <td>0</td>\n",
              "      <td>78.700000</td>\n",
              "      <td>6871287.0</td>\n",
              "      <td>3.623</td>\n",
              "      <td>29.0</td>\n",
              "      <td>4.424</td>\n",
              "      <td>2.816</td>\n",
              "      <td>17881.509</td>\n",
              "      <td>13.151477</td>\n",
              "      <td>341.862</td>\n",
              "      <td>10.43</td>\n",
              "      <td>10.625859</td>\n",
              "      <td>32.630963</td>\n",
              "      <td>3.70</td>\n",
              "      <td>72.91</td>\n",
              "      <td>0.706</td>\n",
              "    </tr>\n",
              "    <tr>\n",
              "      <th>...</th>\n",
              "      <td>...</td>\n",
              "      <td>...</td>\n",
              "      <td>...</td>\n",
              "      <td>...</td>\n",
              "      <td>...</td>\n",
              "      <td>...</td>\n",
              "      <td>...</td>\n",
              "      <td>...</td>\n",
              "      <td>...</td>\n",
              "      <td>...</td>\n",
              "      <td>...</td>\n",
              "      <td>...</td>\n",
              "      <td>...</td>\n",
              "      <td>...</td>\n",
              "      <td>...</td>\n",
              "      <td>...</td>\n",
              "      <td>...</td>\n",
              "      <td>...</td>\n",
              "      <td>...</td>\n",
              "      <td>...</td>\n",
              "      <td>...</td>\n",
              "      <td>...</td>\n",
              "      <td>...</td>\n",
              "      <td>...</td>\n",
              "      <td>...</td>\n",
              "      <td>...</td>\n",
              "      <td>...</td>\n",
              "      <td>...</td>\n",
              "      <td>...</td>\n",
              "      <td>...</td>\n",
              "      <td>...</td>\n",
              "      <td>...</td>\n",
              "      <td>...</td>\n",
              "      <td>...</td>\n",
              "    </tr>\n",
              "    <tr>\n",
              "      <th>46216</th>\n",
              "      <td>150</td>\n",
              "      <td>4</td>\n",
              "      <td>155</td>\n",
              "      <td>348</td>\n",
              "      <td>17.0</td>\n",
              "      <td>0.000</td>\n",
              "      <td>4574.938711</td>\n",
              "      <td>37.363573</td>\n",
              "      <td>0.000</td>\n",
              "      <td>24.750</td>\n",
              "      <td>0.000</td>\n",
              "      <td>0.000</td>\n",
              "      <td>117.06714</td>\n",
              "      <td>1.115657</td>\n",
              "      <td>0.000</td>\n",
              "      <td>1.041022</td>\n",
              "      <td>31672.844781</td>\n",
              "      <td>1.036943</td>\n",
              "      <td>0</td>\n",
              "      <td>36.110000</td>\n",
              "      <td>686878.0</td>\n",
              "      <td>21.841</td>\n",
              "      <td>20.8</td>\n",
              "      <td>3.507</td>\n",
              "      <td>2.043</td>\n",
              "      <td>2205.923</td>\n",
              "      <td>25.100000</td>\n",
              "      <td>459.780</td>\n",
              "      <td>18.68</td>\n",
              "      <td>10.625859</td>\n",
              "      <td>32.630963</td>\n",
              "      <td>1.40</td>\n",
              "      <td>73.00</td>\n",
              "      <td>0.546</td>\n",
              "    </tr>\n",
              "    <tr>\n",
              "      <th>52741</th>\n",
              "      <td>176</td>\n",
              "      <td>2</td>\n",
              "      <td>177</td>\n",
              "      <td>178</td>\n",
              "      <td>42932.0</td>\n",
              "      <td>902.429</td>\n",
              "      <td>1121.000000</td>\n",
              "      <td>24.000000</td>\n",
              "      <td>16.714</td>\n",
              "      <td>981.667</td>\n",
              "      <td>21.882</td>\n",
              "      <td>20.635</td>\n",
              "      <td>25.63200</td>\n",
              "      <td>0.549000</td>\n",
              "      <td>0.382</td>\n",
              "      <td>1.100000</td>\n",
              "      <td>11176.000000</td>\n",
              "      <td>0.256000</td>\n",
              "      <td>3</td>\n",
              "      <td>41.670000</td>\n",
              "      <td>43733759.0</td>\n",
              "      <td>77.390</td>\n",
              "      <td>41.4</td>\n",
              "      <td>16.462</td>\n",
              "      <td>11.133</td>\n",
              "      <td>7894.393</td>\n",
              "      <td>0.100000</td>\n",
              "      <td>539.849</td>\n",
              "      <td>7.11</td>\n",
              "      <td>13.500000</td>\n",
              "      <td>47.400000</td>\n",
              "      <td>8.80</td>\n",
              "      <td>72.06</td>\n",
              "      <td>0.751</td>\n",
              "    </tr>\n",
              "    <tr>\n",
              "      <th>42938</th>\n",
              "      <td>181</td>\n",
              "      <td>3</td>\n",
              "      <td>143</td>\n",
              "      <td>165</td>\n",
              "      <td>27.0</td>\n",
              "      <td>0.000</td>\n",
              "      <td>4574.938711</td>\n",
              "      <td>37.363573</td>\n",
              "      <td>0.000</td>\n",
              "      <td>243.359</td>\n",
              "      <td>0.000</td>\n",
              "      <td>0.000</td>\n",
              "      <td>117.06714</td>\n",
              "      <td>1.115657</td>\n",
              "      <td>0.000</td>\n",
              "      <td>1.041022</td>\n",
              "      <td>31672.844781</td>\n",
              "      <td>1.036943</td>\n",
              "      <td>0</td>\n",
              "      <td>59.378963</td>\n",
              "      <td>110947.0</td>\n",
              "      <td>281.787</td>\n",
              "      <td>31.8</td>\n",
              "      <td>7.724</td>\n",
              "      <td>4.832</td>\n",
              "      <td>10727.146</td>\n",
              "      <td>13.151477</td>\n",
              "      <td>252.675</td>\n",
              "      <td>11.62</td>\n",
              "      <td>10.625859</td>\n",
              "      <td>32.630963</td>\n",
              "      <td>2.60</td>\n",
              "      <td>72.53</td>\n",
              "      <td>0.723</td>\n",
              "    </tr>\n",
              "    <tr>\n",
              "      <th>43892</th>\n",
              "      <td>146</td>\n",
              "      <td>1</td>\n",
              "      <td>147</td>\n",
              "      <td>207</td>\n",
              "      <td>266941.0</td>\n",
              "      <td>2288.714</td>\n",
              "      <td>2733.000000</td>\n",
              "      <td>30.000000</td>\n",
              "      <td>35.286</td>\n",
              "      <td>7667.663</td>\n",
              "      <td>56.529</td>\n",
              "      <td>65.741</td>\n",
              "      <td>78.50300</td>\n",
              "      <td>0.862000</td>\n",
              "      <td>1.014</td>\n",
              "      <td>0.840000</td>\n",
              "      <td>57776.000000</td>\n",
              "      <td>1.660000</td>\n",
              "      <td>3</td>\n",
              "      <td>71.300000</td>\n",
              "      <td>34813867.0</td>\n",
              "      <td>15.322</td>\n",
              "      <td>31.9</td>\n",
              "      <td>3.295</td>\n",
              "      <td>1.845</td>\n",
              "      <td>49045.411</td>\n",
              "      <td>13.151477</td>\n",
              "      <td>259.538</td>\n",
              "      <td>17.72</td>\n",
              "      <td>1.800000</td>\n",
              "      <td>25.400000</td>\n",
              "      <td>2.70</td>\n",
              "      <td>75.13</td>\n",
              "      <td>0.853</td>\n",
              "    </tr>\n",
              "    <tr>\n",
              "      <th>2732</th>\n",
              "      <td>8</td>\n",
              "      <td>4</td>\n",
              "      <td>8</td>\n",
              "      <td>342</td>\n",
              "      <td>27993.0</td>\n",
              "      <td>10.000</td>\n",
              "      <td>908.000000</td>\n",
              "      <td>0.000000</td>\n",
              "      <td>0.000</td>\n",
              "      <td>1097.770</td>\n",
              "      <td>0.235</td>\n",
              "      <td>0.392</td>\n",
              "      <td>35.60800</td>\n",
              "      <td>0.000000</td>\n",
              "      <td>0.000</td>\n",
              "      <td>1.041022</td>\n",
              "      <td>28936.000000</td>\n",
              "      <td>1.135000</td>\n",
              "      <td>3</td>\n",
              "      <td>59.720000</td>\n",
              "      <td>25499881.0</td>\n",
              "      <td>3.202</td>\n",
              "      <td>37.9</td>\n",
              "      <td>15.504</td>\n",
              "      <td>10.129</td>\n",
              "      <td>44648.710</td>\n",
              "      <td>0.500000</td>\n",
              "      <td>107.791</td>\n",
              "      <td>5.07</td>\n",
              "      <td>13.000000</td>\n",
              "      <td>16.500000</td>\n",
              "      <td>3.84</td>\n",
              "      <td>83.44</td>\n",
              "      <td>0.939</td>\n",
              "    </tr>\n",
              "  </tbody>\n",
              "</table>\n",
              "<p>39192 rows × 34 columns</p>\n",
              "</div>"
            ],
            "text/plain": [
              "       iso_code  continent  ...  life_expectancy  human_development_index\n",
              "43837       146          1  ...            75.13                    0.853\n",
              "16149        66          0  ...            58.74                    0.591\n",
              "45666       159          2  ...            77.54                    0.855\n",
              "14910        48          3  ...            74.08                    0.736\n",
              "29477        97          0  ...            72.91                    0.706\n",
              "...         ...        ...  ...              ...                      ...\n",
              "46216       150          4  ...            73.00                    0.546\n",
              "52741       176          2  ...            72.06                    0.751\n",
              "42938       181          3  ...            72.53                    0.723\n",
              "43892       146          1  ...            75.13                    0.853\n",
              "2732          8          4  ...            83.44                    0.939\n",
              "\n",
              "[39192 rows x 34 columns]"
            ]
          },
          "metadata": {
            "tags": []
          },
          "execution_count": 35
        }
      ]
    },
    {
      "cell_type": "markdown",
      "metadata": {
        "id": "Ky46JAC-CFDn"
      },
      "source": [
        "### **6. Machine Learning**"
      ]
    },
    {
      "cell_type": "code",
      "metadata": {
        "id": "H9mMreYECOOF"
      },
      "source": [
        "# import nedded libraries\n",
        "from sklearn.ensemble import RandomForestRegressor\n",
        "from sklearn.metrics import r2_score \n",
        "from sklearn.model_selection import RandomizedSearchCV\n",
        "from joblib import dump, load"
      ],
      "execution_count": null,
      "outputs": []
    },
    {
      "cell_type": "markdown",
      "metadata": {
        "id": "-Mj7qA3IEcsf"
      },
      "source": [
        "##### **Setup Random Forest model**"
      ]
    },
    {
      "cell_type": "code",
      "metadata": {
        "id": "siqeApuMEq3c"
      },
      "source": [
        "rf = RandomForestRegressor(\n",
        "    n_estimators = 100, # 400 \n",
        "    random_state = 0, \n",
        "    max_depth=30)"
      ],
      "execution_count": null,
      "outputs": []
    },
    {
      "cell_type": "markdown",
      "metadata": {
        "id": "e3V3pYBzE_u4"
      },
      "source": [
        "##### **Train the model**"
      ]
    },
    {
      "cell_type": "code",
      "metadata": {
        "colab": {
          "base_uri": "https://localhost:8080/"
        },
        "id": "fv7Zr2fOFFhT",
        "outputId": "2bc8ce4e-6d9f-4378-c446-79f1ee132e51"
      },
      "source": [
        "rf.fit(X_train, y_train)"
      ],
      "execution_count": null,
      "outputs": [
        {
          "output_type": "execute_result",
          "data": {
            "text/plain": [
              "RandomForestRegressor(bootstrap=True, ccp_alpha=0.0, criterion='mse',\n",
              "                      max_depth=30, max_features='auto', max_leaf_nodes=None,\n",
              "                      max_samples=None, min_impurity_decrease=0.0,\n",
              "                      min_impurity_split=None, min_samples_leaf=1,\n",
              "                      min_samples_split=2, min_weight_fraction_leaf=0.0,\n",
              "                      n_estimators=100, n_jobs=None, oob_score=False,\n",
              "                      random_state=0, verbose=0, warm_start=False)"
            ]
          },
          "metadata": {
            "tags": []
          },
          "execution_count": 38
        }
      ]
    },
    {
      "cell_type": "markdown",
      "metadata": {
        "id": "Sz_ka4EQFlMd"
      },
      "source": [
        "##### **Test the trained model**"
      ]
    },
    {
      "cell_type": "code",
      "metadata": {
        "id": "E_29Usa-FrEd"
      },
      "source": [
        "y_pred = rf.predict(X_test)"
      ],
      "execution_count": null,
      "outputs": []
    },
    {
      "cell_type": "markdown",
      "metadata": {
        "id": "b-bOFqlcF3B-"
      },
      "source": [
        "##### **View training accuracy**"
      ]
    },
    {
      "cell_type": "code",
      "metadata": {
        "colab": {
          "base_uri": "https://localhost:8080/"
        },
        "id": "z4HWx_nUF9lR",
        "outputId": "d27a70a4-3b5f-41d1-f41c-ab878fee55e6"
      },
      "source": [
        "print(f'{r2_score(y_test, y_pred):.2%}')"
      ],
      "execution_count": null,
      "outputs": [
        {
          "output_type": "stream",
          "text": [
            "96.82%\n"
          ],
          "name": "stdout"
        }
      ]
    },
    {
      "cell_type": "code",
      "metadata": {
        "id": "fp6lHvrFHmNw"
      },
      "source": [
        ""
      ],
      "execution_count": null,
      "outputs": []
    },
    {
      "cell_type": "markdown",
      "metadata": {
        "id": "XIhHIXqHGY7a"
      },
      "source": [
        "### **7. Hyperparamter Tuning**\n",
        "\n",
        "Optimal parameters for n_estimators and max_depth are\n",
        "{'n_estimators': 400, 'max_depth': 30}"
      ]
    },
    {
      "cell_type": "code",
      "metadata": {
        "id": "QqAXvkSOGfJP"
      },
      "source": [
        "random_grid = {'n_estimators': np.arange(200,600,100),\n",
        "               'max_depth': np.arange(10,40,10)}"
      ],
      "execution_count": null,
      "outputs": []
    },
    {
      "cell_type": "code",
      "metadata": {
        "id": "UN4BWSFhJAHk"
      },
      "source": [
        "rf_random = RandomizedSearchCV(\n",
        "    estimator = rf, \n",
        "    param_distributions = random_grid, \n",
        "    n_iter = 100, cv = 3, verbose=2, random_state=0)"
      ],
      "execution_count": null,
      "outputs": []
    },
    {
      "cell_type": "code",
      "metadata": {
        "colab": {
          "background_save": true,
          "base_uri": "https://localhost:8080/"
        },
        "id": "e9wOgmDyJa3B",
        "outputId": "3ea48c22-bdea-40cb-966b-428a8256e3a8"
      },
      "source": [
        "#Re-train the model\n",
        "rf_random.fit(X_train, y_train)"
      ],
      "execution_count": null,
      "outputs": [
        {
          "output_type": "stream",
          "text": [
            "/usr/local/lib/python3.6/dist-packages/sklearn/model_selection/_search.py:281: UserWarning: The total space of parameters 12 is smaller than n_iter=100. Running 12 iterations. For exhaustive searches, use GridSearchCV.\n",
            "  % (grid_size, self.n_iter, grid_size), UserWarning)\n",
            "[Parallel(n_jobs=1)]: Using backend SequentialBackend with 1 concurrent workers.\n"
          ],
          "name": "stderr"
        },
        {
          "output_type": "stream",
          "text": [
            "Fitting 3 folds for each of 12 candidates, totalling 36 fits\n",
            "[CV] n_estimators=200, max_depth=10 ..................................\n",
            "[CV] ................... n_estimators=200, max_depth=10, total= 1.0min\n",
            "[CV] n_estimators=200, max_depth=10 ..................................\n"
          ],
          "name": "stdout"
        },
        {
          "output_type": "stream",
          "text": [
            "[Parallel(n_jobs=1)]: Done   1 out of   1 | elapsed:  1.0min remaining:    0.0s\n"
          ],
          "name": "stderr"
        },
        {
          "output_type": "stream",
          "text": [
            "[CV] ................... n_estimators=200, max_depth=10, total= 1.0min\n",
            "[CV] n_estimators=200, max_depth=10 ..................................\n",
            "[CV] ................... n_estimators=200, max_depth=10, total= 1.0min\n",
            "[CV] n_estimators=300, max_depth=10 ..................................\n",
            "[CV] ................... n_estimators=300, max_depth=10, total= 1.6min\n",
            "[CV] n_estimators=300, max_depth=10 ..................................\n",
            "[CV] ................... n_estimators=300, max_depth=10, total= 1.6min\n",
            "[CV] n_estimators=300, max_depth=10 ..................................\n",
            "[CV] ................... n_estimators=300, max_depth=10, total= 1.5min\n",
            "[CV] n_estimators=400, max_depth=10 ..................................\n",
            "[CV] ................... n_estimators=400, max_depth=10, total= 2.1min\n",
            "[CV] n_estimators=400, max_depth=10 ..................................\n",
            "[CV] ................... n_estimators=400, max_depth=10, total= 2.0min\n",
            "[CV] n_estimators=400, max_depth=10 ..................................\n",
            "[CV] ................... n_estimators=400, max_depth=10, total= 2.0min\n",
            "[CV] n_estimators=500, max_depth=10 ..................................\n",
            "[CV] ................... n_estimators=500, max_depth=10, total= 2.5min\n",
            "[CV] n_estimators=500, max_depth=10 ..................................\n",
            "[CV] ................... n_estimators=500, max_depth=10, total= 2.5min\n",
            "[CV] n_estimators=500, max_depth=10 ..................................\n",
            "[CV] ................... n_estimators=500, max_depth=10, total= 2.5min\n",
            "[CV] n_estimators=200, max_depth=20 ..................................\n",
            "[CV] ................... n_estimators=200, max_depth=20, total= 1.8min\n",
            "[CV] n_estimators=200, max_depth=20 ..................................\n",
            "[CV] ................... n_estimators=200, max_depth=20, total= 1.8min\n",
            "[CV] n_estimators=200, max_depth=20 ..................................\n",
            "[CV] ................... n_estimators=200, max_depth=20, total= 1.8min\n",
            "[CV] n_estimators=300, max_depth=20 ..................................\n",
            "[CV] ................... n_estimators=300, max_depth=20, total= 2.8min\n",
            "[CV] n_estimators=300, max_depth=20 ..................................\n",
            "[CV] ................... n_estimators=300, max_depth=20, total= 2.7min\n",
            "[CV] n_estimators=300, max_depth=20 ..................................\n",
            "[CV] ................... n_estimators=300, max_depth=20, total= 2.7min\n",
            "[CV] n_estimators=400, max_depth=20 ..................................\n",
            "[CV] ................... n_estimators=400, max_depth=20, total= 3.7min\n",
            "[CV] n_estimators=400, max_depth=20 ..................................\n",
            "[CV] ................... n_estimators=400, max_depth=20, total= 3.7min\n",
            "[CV] n_estimators=400, max_depth=20 ..................................\n",
            "[CV] ................... n_estimators=400, max_depth=20, total= 3.7min\n",
            "[CV] n_estimators=500, max_depth=20 ..................................\n",
            "[CV] ................... n_estimators=500, max_depth=20, total= 4.6min\n",
            "[CV] n_estimators=500, max_depth=20 ..................................\n",
            "[CV] ................... n_estimators=500, max_depth=20, total= 4.6min\n",
            "[CV] n_estimators=500, max_depth=20 ..................................\n",
            "[CV] ................... n_estimators=500, max_depth=20, total= 4.5min\n",
            "[CV] n_estimators=200, max_depth=30 ..................................\n",
            "[CV] ................... n_estimators=200, max_depth=30, total= 2.1min\n",
            "[CV] n_estimators=200, max_depth=30 ..................................\n",
            "[CV] ................... n_estimators=200, max_depth=30, total= 2.1min\n",
            "[CV] n_estimators=200, max_depth=30 ..................................\n",
            "[CV] ................... n_estimators=200, max_depth=30, total= 2.0min\n",
            "[CV] n_estimators=300, max_depth=30 ..................................\n",
            "[CV] ................... n_estimators=300, max_depth=30, total= 3.1min\n",
            "[CV] n_estimators=300, max_depth=30 ..................................\n",
            "[CV] ................... n_estimators=300, max_depth=30, total= 3.1min\n",
            "[CV] n_estimators=300, max_depth=30 ..................................\n",
            "[CV] ................... n_estimators=300, max_depth=30, total= 3.0min\n",
            "[CV] n_estimators=400, max_depth=30 ..................................\n",
            "[CV] ................... n_estimators=400, max_depth=30, total= 4.2min\n",
            "[CV] n_estimators=400, max_depth=30 ..................................\n",
            "[CV] ................... n_estimators=400, max_depth=30, total= 4.1min\n",
            "[CV] n_estimators=400, max_depth=30 ..................................\n",
            "[CV] ................... n_estimators=400, max_depth=30, total= 4.0min\n",
            "[CV] n_estimators=500, max_depth=30 ..................................\n",
            "[CV] ................... n_estimators=500, max_depth=30, total= 5.2min\n",
            "[CV] n_estimators=500, max_depth=30 ..................................\n",
            "[CV] ................... n_estimators=500, max_depth=30, total= 5.2min\n",
            "[CV] n_estimators=500, max_depth=30 ..................................\n",
            "[CV] ................... n_estimators=500, max_depth=30, total= 5.0min\n"
          ],
          "name": "stdout"
        },
        {
          "output_type": "stream",
          "text": [
            "[Parallel(n_jobs=1)]: Done  36 out of  36 | elapsed: 103.4min finished\n"
          ],
          "name": "stderr"
        },
        {
          "output_type": "execute_result",
          "data": {
            "text/plain": [
              "RandomizedSearchCV(cv=3, error_score=nan,\n",
              "                   estimator=RandomForestRegressor(bootstrap=True,\n",
              "                                                   ccp_alpha=0.0,\n",
              "                                                   criterion='mse',\n",
              "                                                   max_depth=30,\n",
              "                                                   max_features='auto',\n",
              "                                                   max_leaf_nodes=None,\n",
              "                                                   max_samples=None,\n",
              "                                                   min_impurity_decrease=0.0,\n",
              "                                                   min_impurity_split=None,\n",
              "                                                   min_samples_leaf=1,\n",
              "                                                   min_samples_split=2,\n",
              "                                                   min_weight_fraction_leaf=0.0,\n",
              "                                                   n_estimators=100,\n",
              "                                                   n_jobs=None, oob_score=False,\n",
              "                                                   random_state=0, verbose=0,\n",
              "                                                   warm_start=False),\n",
              "                   iid='deprecated', n_iter=100, n_jobs=None,\n",
              "                   param_distributions={'max_depth': array([10, 20, 30]),\n",
              "                                        'n_estimators': array([200, 300, 400, 500])},\n",
              "                   pre_dispatch='2*n_jobs', random_state=0, refit=True,\n",
              "                   return_train_score=False, scoring=None, verbose=2)"
            ]
          },
          "metadata": {
            "tags": []
          },
          "execution_count": 0
        }
      ]
    },
    {
      "cell_type": "code",
      "metadata": {
        "colab": {
          "base_uri": "https://localhost:8080/"
        },
        "id": "E6AFUD-z-r_p",
        "outputId": "7e9e27ac-efeb-4d49-966d-7d2fcbd719d8"
      },
      "source": [
        "# Check best parametera\n",
        "rf_random.best_params_"
      ],
      "execution_count": 44,
      "outputs": [
        {
          "output_type": "execute_result",
          "data": {
            "text/plain": [
              "{'max_depth': 10, 'n_estimators': 500}"
            ]
          },
          "metadata": {
            "tags": []
          },
          "execution_count": 44
        }
      ]
    },
    {
      "cell_type": "markdown",
      "metadata": {
        "id": "hkBnNpII_nAZ"
      },
      "source": [
        "##### **Re-run the model with best parametera**"
      ]
    },
    {
      "cell_type": "code",
      "metadata": {
        "colab": {
          "base_uri": "https://localhost:8080/"
        },
        "id": "xw9fYDse_y8L",
        "outputId": "ed27bdb4-9f57-4208-82a1-0ab41c7d299c"
      },
      "source": [
        "rf = RandomForestRegressor(**rf_random.best_params_, random_state = 1)\n",
        "rf.fit(X_train, y_train)\n"
      ],
      "execution_count": 48,
      "outputs": [
        {
          "output_type": "execute_result",
          "data": {
            "text/plain": [
              "RandomForestRegressor(bootstrap=True, ccp_alpha=0.0, criterion='mse',\n",
              "                      max_depth=10, max_features='auto', max_leaf_nodes=None,\n",
              "                      max_samples=None, min_impurity_decrease=0.0,\n",
              "                      min_impurity_split=None, min_samples_leaf=1,\n",
              "                      min_samples_split=2, min_weight_fraction_leaf=0.0,\n",
              "                      n_estimators=500, n_jobs=None, oob_score=False,\n",
              "                      random_state=1, verbose=0, warm_start=False)"
            ]
          },
          "metadata": {
            "tags": []
          },
          "execution_count": 48
        }
      ]
    },
    {
      "cell_type": "code",
      "metadata": {
        "colab": {
          "base_uri": "https://localhost:8080/"
        },
        "id": "6uwe3LZ1A_Sq",
        "outputId": "e6f671d9-676e-405a-88ba-6c19c7e42bd4"
      },
      "source": [
        "y_pred = rf.predict(X_test)\n",
        "print(f'{r2_score(y_test, y_pred):.2%}')"
      ],
      "execution_count": 49,
      "outputs": [
        {
          "output_type": "stream",
          "text": [
            "95.80%\n"
          ],
          "name": "stdout"
        }
      ]
    },
    {
      "cell_type": "markdown",
      "metadata": {
        "id": "Uh4HGHfeUPNA"
      },
      "source": [
        "### **8. Save the model**"
      ]
    },
    {
      "cell_type": "code",
      "metadata": {
        "colab": {
          "base_uri": "https://localhost:8080/"
        },
        "id": "q-e_2lz4UW55",
        "outputId": "7ee316f6-8a7c-462f-c21d-87d7316f5c64"
      },
      "source": [
        "dump(rf, 'rf_model.joblib',compress=3)"
      ],
      "execution_count": 50,
      "outputs": [
        {
          "output_type": "execute_result",
          "data": {
            "text/plain": [
              "['rf_model.joblib']"
            ]
          },
          "metadata": {
            "tags": []
          },
          "execution_count": 50
        }
      ]
    },
    {
      "cell_type": "markdown",
      "metadata": {
        "id": "i2vaBtJiUo_3"
      },
      "source": [
        "### **9. Predict new cases**"
      ]
    },
    {
      "cell_type": "code",
      "metadata": {
        "colab": {
          "base_uri": "https://localhost:8080/"
        },
        "id": "CzwfmmI9Uvum",
        "outputId": "49d2cd90-309d-40b2-b522-41991759f2f2"
      },
      "source": [
        "input_val = 'United Kingdom'\n",
        "encoder.fit_transform(df_original_data['location'])"
      ],
      "execution_count": 51,
      "outputs": [
        {
          "output_type": "execute_result",
          "data": {
            "text/plain": [
              "array([  0,   0,   0, ..., 191, 191, 191])"
            ]
          },
          "metadata": {
            "tags": []
          },
          "execution_count": 51
        }
      ]
    },
    {
      "cell_type": "code",
      "metadata": {
        "colab": {
          "base_uri": "https://localhost:8080/",
          "height": 609
        },
        "id": "wJQLbjSsVZzh",
        "outputId": "136da576-3026-45af-e858-c5a63d54354d"
      },
      "source": [
        "encode_ind = (encoder.classes_).tolist().index(input_val)\n",
        "df_original_data[df_original_data.location == input_val]"
      ],
      "execution_count": 53,
      "outputs": [
        {
          "output_type": "execute_result",
          "data": {
            "text/html": [
              "<div>\n",
              "<style scoped>\n",
              "    .dataframe tbody tr th:only-of-type {\n",
              "        vertical-align: middle;\n",
              "    }\n",
              "\n",
              "    .dataframe tbody tr th {\n",
              "        vertical-align: top;\n",
              "    }\n",
              "\n",
              "    .dataframe thead th {\n",
              "        text-align: right;\n",
              "    }\n",
              "</style>\n",
              "<table border=\"1\" class=\"dataframe\">\n",
              "  <thead>\n",
              "    <tr style=\"text-align: right;\">\n",
              "      <th></th>\n",
              "      <th>iso_code</th>\n",
              "      <th>continent</th>\n",
              "      <th>location</th>\n",
              "      <th>date</th>\n",
              "      <th>total_cases</th>\n",
              "      <th>new_cases</th>\n",
              "      <th>new_cases_smoothed</th>\n",
              "      <th>total_deaths</th>\n",
              "      <th>new_deaths</th>\n",
              "      <th>new_deaths_smoothed</th>\n",
              "      <th>total_cases_per_million</th>\n",
              "      <th>new_cases_per_million</th>\n",
              "      <th>new_cases_smoothed_per_million</th>\n",
              "      <th>total_deaths_per_million</th>\n",
              "      <th>new_deaths_per_million</th>\n",
              "      <th>new_deaths_smoothed_per_million</th>\n",
              "      <th>reproduction_rate</th>\n",
              "      <th>icu_patients</th>\n",
              "      <th>icu_patients_per_million</th>\n",
              "      <th>hosp_patients</th>\n",
              "      <th>hosp_patients_per_million</th>\n",
              "      <th>weekly_icu_admissions</th>\n",
              "      <th>weekly_icu_admissions_per_million</th>\n",
              "      <th>weekly_hosp_admissions</th>\n",
              "      <th>weekly_hosp_admissions_per_million</th>\n",
              "      <th>new_tests</th>\n",
              "      <th>total_tests</th>\n",
              "      <th>total_tests_per_thousand</th>\n",
              "      <th>new_tests_per_thousand</th>\n",
              "      <th>new_tests_smoothed</th>\n",
              "      <th>new_tests_smoothed_per_thousand</th>\n",
              "      <th>positive_rate</th>\n",
              "      <th>tests_per_case</th>\n",
              "      <th>tests_units</th>\n",
              "      <th>total_vaccinations</th>\n",
              "      <th>total_vaccinations_per_hundred</th>\n",
              "      <th>stringency_index</th>\n",
              "      <th>population</th>\n",
              "      <th>population_density</th>\n",
              "      <th>median_age</th>\n",
              "      <th>aged_65_older</th>\n",
              "      <th>aged_70_older</th>\n",
              "      <th>gdp_per_capita</th>\n",
              "      <th>extreme_poverty</th>\n",
              "      <th>cardiovasc_death_rate</th>\n",
              "      <th>diabetes_prevalence</th>\n",
              "      <th>female_smokers</th>\n",
              "      <th>male_smokers</th>\n",
              "      <th>handwashing_facilities</th>\n",
              "      <th>hospital_beds_per_thousand</th>\n",
              "      <th>life_expectancy</th>\n",
              "      <th>human_development_index</th>\n",
              "    </tr>\n",
              "  </thead>\n",
              "  <tbody>\n",
              "    <tr>\n",
              "      <th>53259</th>\n",
              "      <td>GBR</td>\n",
              "      <td>Europe</td>\n",
              "      <td>United Kingdom</td>\n",
              "      <td>2020-01-31</td>\n",
              "      <td>2.0</td>\n",
              "      <td>2.0</td>\n",
              "      <td>NaN</td>\n",
              "      <td>NaN</td>\n",
              "      <td>NaN</td>\n",
              "      <td>NaN</td>\n",
              "      <td>0.029</td>\n",
              "      <td>0.029</td>\n",
              "      <td>NaN</td>\n",
              "      <td>NaN</td>\n",
              "      <td>NaN</td>\n",
              "      <td>NaN</td>\n",
              "      <td>NaN</td>\n",
              "      <td>NaN</td>\n",
              "      <td>NaN</td>\n",
              "      <td>NaN</td>\n",
              "      <td>NaN</td>\n",
              "      <td>NaN</td>\n",
              "      <td>NaN</td>\n",
              "      <td>NaN</td>\n",
              "      <td>NaN</td>\n",
              "      <td>NaN</td>\n",
              "      <td>NaN</td>\n",
              "      <td>NaN</td>\n",
              "      <td>NaN</td>\n",
              "      <td>NaN</td>\n",
              "      <td>NaN</td>\n",
              "      <td>NaN</td>\n",
              "      <td>NaN</td>\n",
              "      <td>NaN</td>\n",
              "      <td>NaN</td>\n",
              "      <td>NaN</td>\n",
              "      <td>8.33</td>\n",
              "      <td>67886004.0</td>\n",
              "      <td>272.898</td>\n",
              "      <td>40.8</td>\n",
              "      <td>18.517</td>\n",
              "      <td>12.527</td>\n",
              "      <td>39753.244</td>\n",
              "      <td>0.2</td>\n",
              "      <td>122.137</td>\n",
              "      <td>4.28</td>\n",
              "      <td>20.0</td>\n",
              "      <td>24.7</td>\n",
              "      <td>NaN</td>\n",
              "      <td>2.54</td>\n",
              "      <td>81.32</td>\n",
              "      <td>0.922</td>\n",
              "    </tr>\n",
              "    <tr>\n",
              "      <th>53260</th>\n",
              "      <td>GBR</td>\n",
              "      <td>Europe</td>\n",
              "      <td>United Kingdom</td>\n",
              "      <td>2020-02-01</td>\n",
              "      <td>2.0</td>\n",
              "      <td>0.0</td>\n",
              "      <td>NaN</td>\n",
              "      <td>NaN</td>\n",
              "      <td>NaN</td>\n",
              "      <td>NaN</td>\n",
              "      <td>0.029</td>\n",
              "      <td>0.000</td>\n",
              "      <td>NaN</td>\n",
              "      <td>NaN</td>\n",
              "      <td>NaN</td>\n",
              "      <td>NaN</td>\n",
              "      <td>NaN</td>\n",
              "      <td>NaN</td>\n",
              "      <td>NaN</td>\n",
              "      <td>NaN</td>\n",
              "      <td>NaN</td>\n",
              "      <td>NaN</td>\n",
              "      <td>NaN</td>\n",
              "      <td>NaN</td>\n",
              "      <td>NaN</td>\n",
              "      <td>NaN</td>\n",
              "      <td>NaN</td>\n",
              "      <td>NaN</td>\n",
              "      <td>NaN</td>\n",
              "      <td>NaN</td>\n",
              "      <td>NaN</td>\n",
              "      <td>NaN</td>\n",
              "      <td>NaN</td>\n",
              "      <td>NaN</td>\n",
              "      <td>NaN</td>\n",
              "      <td>NaN</td>\n",
              "      <td>8.33</td>\n",
              "      <td>67886004.0</td>\n",
              "      <td>272.898</td>\n",
              "      <td>40.8</td>\n",
              "      <td>18.517</td>\n",
              "      <td>12.527</td>\n",
              "      <td>39753.244</td>\n",
              "      <td>0.2</td>\n",
              "      <td>122.137</td>\n",
              "      <td>4.28</td>\n",
              "      <td>20.0</td>\n",
              "      <td>24.7</td>\n",
              "      <td>NaN</td>\n",
              "      <td>2.54</td>\n",
              "      <td>81.32</td>\n",
              "      <td>0.922</td>\n",
              "    </tr>\n",
              "    <tr>\n",
              "      <th>53261</th>\n",
              "      <td>GBR</td>\n",
              "      <td>Europe</td>\n",
              "      <td>United Kingdom</td>\n",
              "      <td>2020-02-02</td>\n",
              "      <td>2.0</td>\n",
              "      <td>0.0</td>\n",
              "      <td>NaN</td>\n",
              "      <td>NaN</td>\n",
              "      <td>NaN</td>\n",
              "      <td>NaN</td>\n",
              "      <td>0.029</td>\n",
              "      <td>0.000</td>\n",
              "      <td>NaN</td>\n",
              "      <td>NaN</td>\n",
              "      <td>NaN</td>\n",
              "      <td>NaN</td>\n",
              "      <td>NaN</td>\n",
              "      <td>NaN</td>\n",
              "      <td>NaN</td>\n",
              "      <td>NaN</td>\n",
              "      <td>NaN</td>\n",
              "      <td>NaN</td>\n",
              "      <td>NaN</td>\n",
              "      <td>NaN</td>\n",
              "      <td>NaN</td>\n",
              "      <td>NaN</td>\n",
              "      <td>NaN</td>\n",
              "      <td>NaN</td>\n",
              "      <td>NaN</td>\n",
              "      <td>NaN</td>\n",
              "      <td>NaN</td>\n",
              "      <td>NaN</td>\n",
              "      <td>NaN</td>\n",
              "      <td>NaN</td>\n",
              "      <td>NaN</td>\n",
              "      <td>NaN</td>\n",
              "      <td>11.11</td>\n",
              "      <td>67886004.0</td>\n",
              "      <td>272.898</td>\n",
              "      <td>40.8</td>\n",
              "      <td>18.517</td>\n",
              "      <td>12.527</td>\n",
              "      <td>39753.244</td>\n",
              "      <td>0.2</td>\n",
              "      <td>122.137</td>\n",
              "      <td>4.28</td>\n",
              "      <td>20.0</td>\n",
              "      <td>24.7</td>\n",
              "      <td>NaN</td>\n",
              "      <td>2.54</td>\n",
              "      <td>81.32</td>\n",
              "      <td>0.922</td>\n",
              "    </tr>\n",
              "    <tr>\n",
              "      <th>53262</th>\n",
              "      <td>GBR</td>\n",
              "      <td>Europe</td>\n",
              "      <td>United Kingdom</td>\n",
              "      <td>2020-02-03</td>\n",
              "      <td>8.0</td>\n",
              "      <td>6.0</td>\n",
              "      <td>NaN</td>\n",
              "      <td>NaN</td>\n",
              "      <td>NaN</td>\n",
              "      <td>NaN</td>\n",
              "      <td>0.118</td>\n",
              "      <td>0.088</td>\n",
              "      <td>NaN</td>\n",
              "      <td>NaN</td>\n",
              "      <td>NaN</td>\n",
              "      <td>NaN</td>\n",
              "      <td>NaN</td>\n",
              "      <td>NaN</td>\n",
              "      <td>NaN</td>\n",
              "      <td>NaN</td>\n",
              "      <td>NaN</td>\n",
              "      <td>NaN</td>\n",
              "      <td>NaN</td>\n",
              "      <td>NaN</td>\n",
              "      <td>NaN</td>\n",
              "      <td>NaN</td>\n",
              "      <td>NaN</td>\n",
              "      <td>NaN</td>\n",
              "      <td>NaN</td>\n",
              "      <td>NaN</td>\n",
              "      <td>NaN</td>\n",
              "      <td>NaN</td>\n",
              "      <td>NaN</td>\n",
              "      <td>NaN</td>\n",
              "      <td>NaN</td>\n",
              "      <td>NaN</td>\n",
              "      <td>11.11</td>\n",
              "      <td>67886004.0</td>\n",
              "      <td>272.898</td>\n",
              "      <td>40.8</td>\n",
              "      <td>18.517</td>\n",
              "      <td>12.527</td>\n",
              "      <td>39753.244</td>\n",
              "      <td>0.2</td>\n",
              "      <td>122.137</td>\n",
              "      <td>4.28</td>\n",
              "      <td>20.0</td>\n",
              "      <td>24.7</td>\n",
              "      <td>NaN</td>\n",
              "      <td>2.54</td>\n",
              "      <td>81.32</td>\n",
              "      <td>0.922</td>\n",
              "    </tr>\n",
              "    <tr>\n",
              "      <th>53263</th>\n",
              "      <td>GBR</td>\n",
              "      <td>Europe</td>\n",
              "      <td>United Kingdom</td>\n",
              "      <td>2020-02-04</td>\n",
              "      <td>8.0</td>\n",
              "      <td>0.0</td>\n",
              "      <td>NaN</td>\n",
              "      <td>NaN</td>\n",
              "      <td>NaN</td>\n",
              "      <td>NaN</td>\n",
              "      <td>0.118</td>\n",
              "      <td>0.000</td>\n",
              "      <td>NaN</td>\n",
              "      <td>NaN</td>\n",
              "      <td>NaN</td>\n",
              "      <td>NaN</td>\n",
              "      <td>NaN</td>\n",
              "      <td>NaN</td>\n",
              "      <td>NaN</td>\n",
              "      <td>NaN</td>\n",
              "      <td>NaN</td>\n",
              "      <td>NaN</td>\n",
              "      <td>NaN</td>\n",
              "      <td>NaN</td>\n",
              "      <td>NaN</td>\n",
              "      <td>NaN</td>\n",
              "      <td>NaN</td>\n",
              "      <td>NaN</td>\n",
              "      <td>NaN</td>\n",
              "      <td>NaN</td>\n",
              "      <td>NaN</td>\n",
              "      <td>NaN</td>\n",
              "      <td>NaN</td>\n",
              "      <td>NaN</td>\n",
              "      <td>NaN</td>\n",
              "      <td>NaN</td>\n",
              "      <td>11.11</td>\n",
              "      <td>67886004.0</td>\n",
              "      <td>272.898</td>\n",
              "      <td>40.8</td>\n",
              "      <td>18.517</td>\n",
              "      <td>12.527</td>\n",
              "      <td>39753.244</td>\n",
              "      <td>0.2</td>\n",
              "      <td>122.137</td>\n",
              "      <td>4.28</td>\n",
              "      <td>20.0</td>\n",
              "      <td>24.7</td>\n",
              "      <td>NaN</td>\n",
              "      <td>2.54</td>\n",
              "      <td>81.32</td>\n",
              "      <td>0.922</td>\n",
              "    </tr>\n",
              "    <tr>\n",
              "      <th>...</th>\n",
              "      <td>...</td>\n",
              "      <td>...</td>\n",
              "      <td>...</td>\n",
              "      <td>...</td>\n",
              "      <td>...</td>\n",
              "      <td>...</td>\n",
              "      <td>...</td>\n",
              "      <td>...</td>\n",
              "      <td>...</td>\n",
              "      <td>...</td>\n",
              "      <td>...</td>\n",
              "      <td>...</td>\n",
              "      <td>...</td>\n",
              "      <td>...</td>\n",
              "      <td>...</td>\n",
              "      <td>...</td>\n",
              "      <td>...</td>\n",
              "      <td>...</td>\n",
              "      <td>...</td>\n",
              "      <td>...</td>\n",
              "      <td>...</td>\n",
              "      <td>...</td>\n",
              "      <td>...</td>\n",
              "      <td>...</td>\n",
              "      <td>...</td>\n",
              "      <td>...</td>\n",
              "      <td>...</td>\n",
              "      <td>...</td>\n",
              "      <td>...</td>\n",
              "      <td>...</td>\n",
              "      <td>...</td>\n",
              "      <td>...</td>\n",
              "      <td>...</td>\n",
              "      <td>...</td>\n",
              "      <td>...</td>\n",
              "      <td>...</td>\n",
              "      <td>...</td>\n",
              "      <td>...</td>\n",
              "      <td>...</td>\n",
              "      <td>...</td>\n",
              "      <td>...</td>\n",
              "      <td>...</td>\n",
              "      <td>...</td>\n",
              "      <td>...</td>\n",
              "      <td>...</td>\n",
              "      <td>...</td>\n",
              "      <td>...</td>\n",
              "      <td>...</td>\n",
              "      <td>...</td>\n",
              "      <td>...</td>\n",
              "      <td>...</td>\n",
              "      <td>...</td>\n",
              "    </tr>\n",
              "    <tr>\n",
              "      <th>53586</th>\n",
              "      <td>GBR</td>\n",
              "      <td>Europe</td>\n",
              "      <td>United Kingdom</td>\n",
              "      <td>2020-12-23</td>\n",
              "      <td>2155996.0</td>\n",
              "      <td>39387.0</td>\n",
              "      <td>33894.286</td>\n",
              "      <td>69157.0</td>\n",
              "      <td>748.0</td>\n",
              "      <td>505.571</td>\n",
              "      <td>31759.065</td>\n",
              "      <td>580.193</td>\n",
              "      <td>499.282</td>\n",
              "      <td>1018.723</td>\n",
              "      <td>11.018</td>\n",
              "      <td>7.447</td>\n",
              "      <td>NaN</td>\n",
              "      <td>NaN</td>\n",
              "      <td>NaN</td>\n",
              "      <td>NaN</td>\n",
              "      <td>NaN</td>\n",
              "      <td>NaN</td>\n",
              "      <td>NaN</td>\n",
              "      <td>NaN</td>\n",
              "      <td>NaN</td>\n",
              "      <td>507384.0</td>\n",
              "      <td>49434314.0</td>\n",
              "      <td>728.196</td>\n",
              "      <td>7.474</td>\n",
              "      <td>437220.0</td>\n",
              "      <td>6.441</td>\n",
              "      <td>0.078</td>\n",
              "      <td>12.9</td>\n",
              "      <td>tests performed</td>\n",
              "      <td>NaN</td>\n",
              "      <td>NaN</td>\n",
              "      <td>NaN</td>\n",
              "      <td>67886004.0</td>\n",
              "      <td>272.898</td>\n",
              "      <td>40.8</td>\n",
              "      <td>18.517</td>\n",
              "      <td>12.527</td>\n",
              "      <td>39753.244</td>\n",
              "      <td>0.2</td>\n",
              "      <td>122.137</td>\n",
              "      <td>4.28</td>\n",
              "      <td>20.0</td>\n",
              "      <td>24.7</td>\n",
              "      <td>NaN</td>\n",
              "      <td>2.54</td>\n",
              "      <td>81.32</td>\n",
              "      <td>0.922</td>\n",
              "    </tr>\n",
              "    <tr>\n",
              "      <th>53587</th>\n",
              "      <td>GBR</td>\n",
              "      <td>Europe</td>\n",
              "      <td>United Kingdom</td>\n",
              "      <td>2020-12-24</td>\n",
              "      <td>2195144.0</td>\n",
              "      <td>39148.0</td>\n",
              "      <td>34410.857</td>\n",
              "      <td>69732.0</td>\n",
              "      <td>575.0</td>\n",
              "      <td>511.714</td>\n",
              "      <td>32335.737</td>\n",
              "      <td>576.673</td>\n",
              "      <td>506.892</td>\n",
              "      <td>1027.193</td>\n",
              "      <td>8.470</td>\n",
              "      <td>7.538</td>\n",
              "      <td>NaN</td>\n",
              "      <td>NaN</td>\n",
              "      <td>NaN</td>\n",
              "      <td>NaN</td>\n",
              "      <td>NaN</td>\n",
              "      <td>NaN</td>\n",
              "      <td>NaN</td>\n",
              "      <td>NaN</td>\n",
              "      <td>NaN</td>\n",
              "      <td>NaN</td>\n",
              "      <td>NaN</td>\n",
              "      <td>NaN</td>\n",
              "      <td>NaN</td>\n",
              "      <td>NaN</td>\n",
              "      <td>NaN</td>\n",
              "      <td>NaN</td>\n",
              "      <td>NaN</td>\n",
              "      <td>NaN</td>\n",
              "      <td>800000.0</td>\n",
              "      <td>1.18</td>\n",
              "      <td>NaN</td>\n",
              "      <td>67886004.0</td>\n",
              "      <td>272.898</td>\n",
              "      <td>40.8</td>\n",
              "      <td>18.517</td>\n",
              "      <td>12.527</td>\n",
              "      <td>39753.244</td>\n",
              "      <td>0.2</td>\n",
              "      <td>122.137</td>\n",
              "      <td>4.28</td>\n",
              "      <td>20.0</td>\n",
              "      <td>24.7</td>\n",
              "      <td>NaN</td>\n",
              "      <td>2.54</td>\n",
              "      <td>81.32</td>\n",
              "      <td>0.922</td>\n",
              "    </tr>\n",
              "    <tr>\n",
              "      <th>53588</th>\n",
              "      <td>GBR</td>\n",
              "      <td>Europe</td>\n",
              "      <td>United Kingdom</td>\n",
              "      <td>2020-12-25</td>\n",
              "      <td>2227947.0</td>\n",
              "      <td>32803.0</td>\n",
              "      <td>35017.000</td>\n",
              "      <td>70302.0</td>\n",
              "      <td>570.0</td>\n",
              "      <td>523.143</td>\n",
              "      <td>32818.945</td>\n",
              "      <td>483.207</td>\n",
              "      <td>515.821</td>\n",
              "      <td>1035.589</td>\n",
              "      <td>8.396</td>\n",
              "      <td>7.706</td>\n",
              "      <td>NaN</td>\n",
              "      <td>NaN</td>\n",
              "      <td>NaN</td>\n",
              "      <td>NaN</td>\n",
              "      <td>NaN</td>\n",
              "      <td>NaN</td>\n",
              "      <td>NaN</td>\n",
              "      <td>NaN</td>\n",
              "      <td>NaN</td>\n",
              "      <td>NaN</td>\n",
              "      <td>NaN</td>\n",
              "      <td>NaN</td>\n",
              "      <td>NaN</td>\n",
              "      <td>NaN</td>\n",
              "      <td>NaN</td>\n",
              "      <td>NaN</td>\n",
              "      <td>NaN</td>\n",
              "      <td>NaN</td>\n",
              "      <td>NaN</td>\n",
              "      <td>NaN</td>\n",
              "      <td>NaN</td>\n",
              "      <td>67886004.0</td>\n",
              "      <td>272.898</td>\n",
              "      <td>40.8</td>\n",
              "      <td>18.517</td>\n",
              "      <td>12.527</td>\n",
              "      <td>39753.244</td>\n",
              "      <td>0.2</td>\n",
              "      <td>122.137</td>\n",
              "      <td>4.28</td>\n",
              "      <td>20.0</td>\n",
              "      <td>24.7</td>\n",
              "      <td>NaN</td>\n",
              "      <td>2.54</td>\n",
              "      <td>81.32</td>\n",
              "      <td>0.922</td>\n",
              "    </tr>\n",
              "    <tr>\n",
              "      <th>53589</th>\n",
              "      <td>GBR</td>\n",
              "      <td>Europe</td>\n",
              "      <td>United Kingdom</td>\n",
              "      <td>2020-12-26</td>\n",
              "      <td>2262735.0</td>\n",
              "      <td>34788.0</td>\n",
              "      <td>36094.000</td>\n",
              "      <td>70513.0</td>\n",
              "      <td>211.0</td>\n",
              "      <td>476.571</td>\n",
              "      <td>33331.392</td>\n",
              "      <td>512.447</td>\n",
              "      <td>531.685</td>\n",
              "      <td>1038.697</td>\n",
              "      <td>3.108</td>\n",
              "      <td>7.020</td>\n",
              "      <td>NaN</td>\n",
              "      <td>NaN</td>\n",
              "      <td>NaN</td>\n",
              "      <td>NaN</td>\n",
              "      <td>NaN</td>\n",
              "      <td>NaN</td>\n",
              "      <td>NaN</td>\n",
              "      <td>NaN</td>\n",
              "      <td>NaN</td>\n",
              "      <td>NaN</td>\n",
              "      <td>NaN</td>\n",
              "      <td>NaN</td>\n",
              "      <td>NaN</td>\n",
              "      <td>NaN</td>\n",
              "      <td>NaN</td>\n",
              "      <td>NaN</td>\n",
              "      <td>NaN</td>\n",
              "      <td>NaN</td>\n",
              "      <td>NaN</td>\n",
              "      <td>NaN</td>\n",
              "      <td>NaN</td>\n",
              "      <td>67886004.0</td>\n",
              "      <td>272.898</td>\n",
              "      <td>40.8</td>\n",
              "      <td>18.517</td>\n",
              "      <td>12.527</td>\n",
              "      <td>39753.244</td>\n",
              "      <td>0.2</td>\n",
              "      <td>122.137</td>\n",
              "      <td>4.28</td>\n",
              "      <td>20.0</td>\n",
              "      <td>24.7</td>\n",
              "      <td>NaN</td>\n",
              "      <td>2.54</td>\n",
              "      <td>81.32</td>\n",
              "      <td>0.922</td>\n",
              "    </tr>\n",
              "    <tr>\n",
              "      <th>53590</th>\n",
              "      <td>GBR</td>\n",
              "      <td>Europe</td>\n",
              "      <td>United Kingdom</td>\n",
              "      <td>2020-12-27</td>\n",
              "      <td>2295228.0</td>\n",
              "      <td>32493.0</td>\n",
              "      <td>35581.000</td>\n",
              "      <td>70860.0</td>\n",
              "      <td>347.0</td>\n",
              "      <td>479.571</td>\n",
              "      <td>33810.032</td>\n",
              "      <td>478.641</td>\n",
              "      <td>524.129</td>\n",
              "      <td>1043.809</td>\n",
              "      <td>5.112</td>\n",
              "      <td>7.064</td>\n",
              "      <td>NaN</td>\n",
              "      <td>NaN</td>\n",
              "      <td>NaN</td>\n",
              "      <td>NaN</td>\n",
              "      <td>NaN</td>\n",
              "      <td>NaN</td>\n",
              "      <td>NaN</td>\n",
              "      <td>NaN</td>\n",
              "      <td>NaN</td>\n",
              "      <td>NaN</td>\n",
              "      <td>NaN</td>\n",
              "      <td>NaN</td>\n",
              "      <td>NaN</td>\n",
              "      <td>NaN</td>\n",
              "      <td>NaN</td>\n",
              "      <td>NaN</td>\n",
              "      <td>NaN</td>\n",
              "      <td>NaN</td>\n",
              "      <td>NaN</td>\n",
              "      <td>NaN</td>\n",
              "      <td>NaN</td>\n",
              "      <td>67886004.0</td>\n",
              "      <td>272.898</td>\n",
              "      <td>40.8</td>\n",
              "      <td>18.517</td>\n",
              "      <td>12.527</td>\n",
              "      <td>39753.244</td>\n",
              "      <td>0.2</td>\n",
              "      <td>122.137</td>\n",
              "      <td>4.28</td>\n",
              "      <td>20.0</td>\n",
              "      <td>24.7</td>\n",
              "      <td>NaN</td>\n",
              "      <td>2.54</td>\n",
              "      <td>81.32</td>\n",
              "      <td>0.922</td>\n",
              "    </tr>\n",
              "  </tbody>\n",
              "</table>\n",
              "<p>332 rows × 52 columns</p>\n",
              "</div>"
            ],
            "text/plain": [
              "      iso_code continent  ... life_expectancy human_development_index\n",
              "53259      GBR    Europe  ...           81.32                   0.922\n",
              "53260      GBR    Europe  ...           81.32                   0.922\n",
              "53261      GBR    Europe  ...           81.32                   0.922\n",
              "53262      GBR    Europe  ...           81.32                   0.922\n",
              "53263      GBR    Europe  ...           81.32                   0.922\n",
              "...        ...       ...  ...             ...                     ...\n",
              "53586      GBR    Europe  ...           81.32                   0.922\n",
              "53587      GBR    Europe  ...           81.32                   0.922\n",
              "53588      GBR    Europe  ...           81.32                   0.922\n",
              "53589      GBR    Europe  ...           81.32                   0.922\n",
              "53590      GBR    Europe  ...           81.32                   0.922\n",
              "\n",
              "[332 rows x 52 columns]"
            ]
          },
          "metadata": {
            "tags": []
          },
          "execution_count": 53
        }
      ]
    },
    {
      "cell_type": "code",
      "metadata": {
        "colab": {
          "base_uri": "https://localhost:8080/"
        },
        "id": "WgwGZN4xWEnS",
        "outputId": "9583af10-7638-4bc7-ee39-548bc91a8e8e"
      },
      "source": [
        "to_pred = X[X.location == encode_ind].iloc[-1].values.reshape(1,-1)\n",
        "\n",
        "# Predict new cases for input country\n",
        "rf.predict(to_pred)[0]"
      ],
      "execution_count": 54,
      "outputs": [
        {
          "output_type": "execute_result",
          "data": {
            "text/plain": [
              "142649.608"
            ]
          },
          "metadata": {
            "tags": []
          },
          "execution_count": 54
        }
      ]
    }
  ]
}
